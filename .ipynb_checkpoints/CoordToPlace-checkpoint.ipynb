{
 "cells": [
  {
   "cell_type": "markdown",
   "id": "763beccb",
   "metadata": {},
   "source": [
    "# Coordinate -> Place(-gu)"
   ]
  },
  {
   "cell_type": "markdown",
   "id": "754968df",
   "metadata": {},
   "source": [
    "## 1. urllib.parse\n",
    "- URL을 구성 요소로 구문 분석\n",
    "이 모듈은   \n",
    "#1. URL 문자열을 구성요소(주소 지정 체계, 네트워크 위치, 경로 등)으로 분리  \n",
    "#2. URL 문자열로 결합  \n",
    "#3. \"상대 URL\"을 주어진 \"기본 URL\"에 따라 절대 URL로 변환하는 표준 인터페이스를 정의\n",
    "\n",
    "**urlllib.parse 모듈은 다음 함수들을 정의**\n",
    "- URL 구문 분석  \n",
    "- <u>URL 인용(quoting)</u>  \n",
    "\n",
    "**URL Quoting**  \n",
    "`urllib.parse.quote(string, safe='/', encoding=None, errors=None) `\n",
    "- 기본적으로 URL의 경로 섹션을 인용하기 위한 것  \n",
    "- 문자열을 퍼센티지 이스케이프를 사용하는 문자열로 바꿔줌  \n",
    "- safe Parm.은 encoding하지 않을 인자를 입력. **default값은 '/'**\n",
    "- encoding Parm.은 encoding 방식을 입력. **default값은 'utf-8'**\n",
    "- errors Parm.은 error를 발생시키는 방법을 입력. **default값은 quote()에서 'strict', unquote()에서 'replace'**\n",
    "\n",
    "`urllib.parse.quote_plus(string, safe=' ', encoding=None, errors=None)`\n",
    "- 기본적으로 urllib.parse.quote와 동일함  \n",
    "- 띄어쓰기를 출력해주는 방식이 \"%20\" -> \"+\" 라는 차이가 있음\n",
    "\n",
    "`urllib.parse.urlencode()`\n",
    "- Get으로 요청 시에 사용하는 Parameters의 Request를 자동으로 생성"
   ]
  },
  {
   "cell_type": "code",
   "execution_count": 1,
   "id": "0b00eda6",
   "metadata": {},
   "outputs": [
    {
     "name": "stdout",
     "output_type": "stream",
     "text": [
      "이름은 Jaehwan\n",
      "%EC%9D%B4%EB%A6%84%EC%9D%80%20Jaehwan\n",
      "%EC%9D%B4%EB%A6%84%EC%9D%80+Jaehwan\n"
     ]
    }
   ],
   "source": [
    "from urllib.parse import quote, quote_plus\n",
    "\n",
    "print('이름은 Jaehwan')\n",
    "print(quote('이름은 Jaehwan'))\n",
    "print(quote_plus('이름은 Jaehwan'))"
   ]
  },
  {
   "cell_type": "code",
   "execution_count": 2,
   "id": "d9aad45f",
   "metadata": {},
   "outputs": [
    {
     "name": "stdout",
     "output_type": "stream",
     "text": [
      "이름은 Jaehwan\n",
      "이름은 Jaehwan\n"
     ]
    }
   ],
   "source": [
    "from urllib.parse import unquote, unquote_plus\n",
    "\n",
    "encoded_str = quote('이름은 Jaehwan')\n",
    "print(unquote(encoded_str))\n",
    "\n",
    "encoded_str2 = quote_plus('이름은 Jaehwan')\n",
    "print(unquote_plus(encoded_str2))"
   ]
  },
  {
   "cell_type": "code",
   "execution_count": 3,
   "id": "40a306cb",
   "metadata": {},
   "outputs": [
    {
     "name": "stdout",
     "output_type": "stream",
     "text": [
      "key01=value01&key02=value02\n",
      "<class 'str'>\n"
     ]
    }
   ],
   "source": [
    "from urllib.parse import urlencode\n",
    "\n",
    "params = {}\n",
    "params['key01'] = 'value01'\n",
    "params['key02'] = 'value02'\n",
    "params = urlencode(params)\n",
    "print(params)\n",
    "print(type(params))"
   ]
  },
  {
   "cell_type": "code",
   "execution_count": 4,
   "id": "e126d7f6",
   "metadata": {},
   "outputs": [
    {
     "name": "stdout",
     "output_type": "stream",
     "text": [
      "appKey=l7xx5a61621932f54b059f93816c0797a2b3\n"
     ]
    }
   ],
   "source": [
    "from urllib.parse import urlencode\n",
    "\n",
    "url = 'https://apis.openapi.sk.com/tmap/geo/reversegeocoding'\n",
    "key= 'l7xx5a61621932f54b059f93816c0797a2b3'\n",
    "\n",
    "params = {}\n",
    "params['appKey'] = key\n",
    "params = urlencode(params)\n",
    "print(params)"
   ]
  },
  {
   "cell_type": "markdown",
   "id": "00de28e9",
   "metadata": {},
   "source": [
    "## 2. json.loads & json.load\n",
    "- 딕셔너리 형태로 자료를 가져올 때 사용\n",
    "\n",
    "`json.loads`: json 형태의 문자열을 읽을 때 사용  \n",
    "`json.load`: json파일을 읽을 때 사용\n",
    "\n",
    "- encoding error 발생 시, open 내에서 encoding 인자를\n",
    "1. **'utf-8'**\n",
    "2. **'cp949'**\n",
    "3. **'euc-kr'**  \n",
    "로 지정"
   ]
  },
  {
   "cell_type": "code",
   "execution_count": 5,
   "id": "c022f49d",
   "metadata": {},
   "outputs": [
    {
     "name": "stdout",
     "output_type": "stream",
     "text": [
      "{'id': '01', 'language': 'korean', 'edition': 'first', 'author': 'jaehwan jeong'}\n",
      "<class 'dict'>\n"
     ]
    }
   ],
   "source": [
    "import json\n",
    "\n",
    "data = '{\"id\":\"01\", \"language\":\"korean\", \"edition\":\"first\", \"author\":\"jaehwan jeong\"}'\n",
    "loads_data = json.loads(data)\n",
    "print(loads_data)\n",
    "print(type(loads_data))"
   ]
  },
  {
   "cell_type": "code",
   "execution_count": 6,
   "id": "209641a9",
   "metadata": {},
   "outputs": [
    {
     "name": "stdout",
     "output_type": "stream",
     "text": [
      "{'id': '01', 'language': 'korean', 'edition': 'first', 'author': 'jaehwan jeong'}\n"
     ]
    }
   ],
   "source": [
    "import json\n",
    "\n",
    "data = {\"id\":\"01\", \"language\":\"korean\", \"edition\":\"first\", \"author\":\"jaehwan jeong\"}\n",
    "\n",
    "with open(\"jsondata.json\", \"w\", encoding=\"utf-8-sig\") as json_file:\n",
    "    dump_data = json.dump(data, json_file, indent=2) #\n",
    "\n",
    "with open(\"jsondata.json\", \"r\", encoding=\"utf-8-sig\") as json_file:\n",
    "    load_data = json.load(json_file)\n",
    "    print(load_data)"
   ]
  },
  {
   "cell_type": "markdown",
   "id": "23ca7b89",
   "metadata": {},
   "source": [
    "## 3. requests\n",
    "**request**  \n",
    ": Client가 Web Server에 정보를 요청  \n",
    "**response**  \n",
    ": Web Server가 Client에 응답  \n",
    "\n",
    "1. 모듈은 requests 사용\n",
    "2. 함수는 requests.get(url)\n",
    "3. url 주소 선정"
   ]
  },
  {
   "cell_type": "code",
   "execution_count": 7,
   "id": "594f49c8",
   "metadata": {},
   "outputs": [
    {
     "name": "stdout",
     "output_type": "stream",
     "text": [
      "<Response [200]>\n",
      "<Response [200]>\n"
     ]
    }
   ],
   "source": [
    "import requests\n",
    "\n",
    "url = \"https://www.python.org\"\n",
    "resp = requests.get(url)\n",
    "print(resp)\n",
    "\n",
    "url2 = \"https://github.com/Gasso21\"\n",
    "resp2 = requests.get(url2)\n",
    "print(resp2)"
   ]
  },
  {
   "cell_type": "markdown",
   "id": "c431a34e",
   "metadata": {},
   "source": [
    "## Code"
   ]
  },
  {
   "cell_type": "markdown",
   "id": "b7891208",
   "metadata": {},
   "source": [
    "### SK Open API\n",
    "- Site URL : https://skopenapi.readme.io/reference/소개\n",
    "- ReverseGeocoding : 좌표를 입력 -> 주소가 출력\n",
    "    - **Query Params**  \n",
    "        1. version: int32(required)\n",
    "            - 버전\n",
    "        2. lat: string(required)\n",
    "            - 위도\n",
    "        3. lon: string(required)\n",
    "            - 경도\n",
    "        4. coordType: string\n",
    "            - WGS84GEO: 경위도\n",
    "            - EPSG3857: Google Mercator\n",
    "            - KATECH: TM128(Transverse Mercator, 횡메카토르), 한국 표준\n",
    "            - BESSELGEO: GCS_Bessel_1841 타원체\n",
    "            - BESSELTM: Transverse_Mercator 투영법과 GCS_Besel_1841 타원체\n",
    "            - GRS80GEO: GRS_1980 타원체\n",
    "            - GRS80TM: Transverse_Mercator 투여업과 GRS_1980 타원체\n",
    "        5. addressType: string\n",
    "            - A00: 행정동, 법정동 주소\n",
    "            - A01: 행정동 주소\n",
    "            - A02: 법정동 주소\n",
    "            - A03: 도로명 주소\n",
    "            - A04: 건물 번호\n",
    "            - A10: 행정동, 법정동, 도로명 주소\n",
    "        6. coordYn: string\n",
    "            - 주소에 대한 좌표, 입구점 좌표 표시 여부\n",
    "        7. keyInfo: string\n",
    "            - 구 주소 POI 식별자, 새 주소 POI 식별자 표시 여부\n",
    "        8. newAddressExtend: string\n",
    "            - 새주소 결과가 없을 경우 1km까지 확장하여 새주소를 검색할지 여부\n",
    "        9. callback: string\n",
    "            - Callback 함수명 정보: application/javascript일 때 필수\n",
    "        0. appKey: string(required)\n",
    "            - Authentication\n",
    "            \n",
    "Example   \n",
    "https://apis.openapi.sk.com/tmap/geo/reversegeocoding?version=1&lat=37.5050881&lon=126.9571012&coordType=WGS84GEO&addressType=A00&appKey=l7xxc36f3069b6d149139927d7bfae4e9312"
   ]
  },
  {
   "cell_type": "code",
   "execution_count": 28,
   "id": "9f30d43d",
   "metadata": {},
   "outputs": [],
   "source": [
    "from urllib.parse import urlencode, quote_plus\n",
    "import requests\n",
    "import json\n",
    "\n",
    "def Coord_Gu(lat, lon):\n",
    "    T_url = \"https://apis.openapi.sk.com/tmap/geo/reversegeocoding\"\n",
    "    appKey = 'l7xxc36f3069b6d149139927d7bfae4e9312'\n",
    "\n",
    "    params = {}\n",
    "    params['version'] = '1'\n",
    "    params['lat'] = lat\n",
    "    params['lon'] = lon\n",
    "    params['coordType'] = 'WGS84GEO'\n",
    "    params['addressType'] = 'A00'\n",
    "    params['appKey'] = appKey\n",
    "    \n",
    "    queryParams = '?' + urlencode(params)\n",
    "    resp = requests.get(T_url + queryParams)\n",
    "    response_body = resp.json()\n",
    "    gu = response_body[\"addressInfo\"][\"gu_gun\"] #gu: \"00구\"\n",
    "    return gu"
   ]
  },
  {
   "cell_type": "code",
   "execution_count": 29,
   "id": "3cac0ebe",
   "metadata": {},
   "outputs": [
    {
     "data": {
      "text/plain": [
       "'동작구'"
      ]
     },
     "execution_count": 29,
     "metadata": {},
     "output_type": "execute_result"
    }
   ],
   "source": [
    "Coord_Gu(37.5050881, 126.9571012)"
   ]
  }
 ],
 "metadata": {
  "kernelspec": {
   "display_name": "Python 3 (ipykernel)",
   "language": "python",
   "name": "python3"
  },
  "language_info": {
   "codemirror_mode": {
    "name": "ipython",
    "version": 3
   },
   "file_extension": ".py",
   "mimetype": "text/x-python",
   "name": "python",
   "nbconvert_exporter": "python",
   "pygments_lexer": "ipython3",
   "version": "3.9.12"
  }
 },
 "nbformat": 4,
 "nbformat_minor": 5
}
