{
 "cells": [
  {
   "cell_type": "markdown",
   "id": "763beccb",
   "metadata": {},
   "source": [
    "# Coordinate -> Place(-gu)"
   ]
  },
  {
   "cell_type": "markdown",
   "id": "754968df",
   "metadata": {},
   "source": [
    "## 1. urllib.parse\n",
    "- URL을 구성 요소로 구문 분석\n",
    "이 모듈은   \n",
    "#1. URL 문자열을 구성요소(주소 지정 체계, 네트워크 위치, 경로 등)으로 분리  \n",
    "#2. URL 문자열로 결합  \n",
    "#3. \"상대 URL\"을 주어진 \"기본 URL\"에 따라 절대 URL로 변환하는 표준 인터페이스를 정의\n",
    "\n",
    "**urlllib.parse 모듈은 다음 함수들을 정의**\n",
    "- URL 구문 분석  \n",
    "- <u>URL 인용(quoting)</u>  \n",
    "\n",
    "**URL Quoting**  \n",
    "`urllib.parse.quote(string, safe='/', encoding=None, errors=None) `\n",
    "- 기본적으로 URL의 경로 섹션을 인용하기 위한 것  \n",
    "- 문자열을 퍼센티지 이스케이프를 사용하는 문자열로 바꿔줌  \n",
    "- safe Parm.은 encoding하지 않을 인자를 입력. **default값은 '/'**\n",
    "- encoding Parm.은 encoding 방식을 입력. **default값은 'utf-8'**\n",
    "- errors Parm.은 error를 발생시키는 방법을 입력. **default값은 quote()에서 'strict', unquote()에서 'replace'**\n",
    "\n",
    "`urllib.parse.quote_plus(string, safe=' ', encoding=None, errors=None)`\n",
    "- 기본적으로 urllib.parse.quote와 동일함  \n",
    "- 띄어쓰기를 출력해주는 방식이 \"%20\" -> \"+\" 라는 차이가 있음\n",
    "\n",
    "`urllib.parse.urlencode()`\n",
    "- Get으로 요청 시에 사용하는 Parameters의 Request를 자동으로 생성"
   ]
  },
  {
   "cell_type": "code",
   "execution_count": 21,
   "id": "0b00eda6",
   "metadata": {},
   "outputs": [
    {
     "name": "stdout",
     "output_type": "stream",
     "text": [
      "이름은 Jaehwan\n",
      "%EC%9D%B4%EB%A6%84%EC%9D%80%20Jaehwan\n",
      "%EC%9D%B4%EB%A6%84%EC%9D%80+Jaehwan\n"
     ]
    }
   ],
   "source": [
    "from urllib.parse import quote, quote_plus\n",
    "\n",
    "print('이름은 Jaehwan')\n",
    "print(quote('이름은 Jaehwan'))\n",
    "print(quote_plus('이름은 Jaehwan'))"
   ]
  },
  {
   "cell_type": "code",
   "execution_count": 22,
   "id": "d9aad45f",
   "metadata": {},
   "outputs": [
    {
     "name": "stdout",
     "output_type": "stream",
     "text": [
      "이름은 Jaehwan\n",
      "이름은 Jaehwan\n"
     ]
    }
   ],
   "source": [
    "from urllib.parse import unquote, unquote_plus\n",
    "\n",
    "encoded_str = quote('이름은 Jaehwan')\n",
    "print(unquote(encoded_str))\n",
    "\n",
    "encoded_str2 = quote_plus('이름은 Jaehwan')\n",
    "print(unquote_plus(encoded_str2))"
   ]
  },
  {
   "cell_type": "code",
   "execution_count": 25,
   "id": "40a306cb",
   "metadata": {},
   "outputs": [
    {
     "name": "stdout",
     "output_type": "stream",
     "text": [
      "key01=value01&key02=value02\n",
      "<class 'str'>\n"
     ]
    }
   ],
   "source": [
    "from urllib.parse import urlencode\n",
    "\n",
    "params = {}\n",
    "params['key01'] = 'value01'\n",
    "params['key02'] = 'value02'\n",
    "params = urlencode(params)\n",
    "print(params)\n",
    "print(type(params))"
   ]
  },
  {
   "cell_type": "code",
   "execution_count": null,
   "id": "e126d7f6",
   "metadata": {},
   "outputs": [],
   "source": [
    "url = "
   ]
  },
  {
   "cell_type": "markdown",
   "id": "00de28e9",
   "metadata": {},
   "source": [
    "## 2. json.loads & json.load\n",
    "- 딕셔너리 형태로 자료를 가져올 때 사용\n",
    "\n",
    "`json.loads`: json 형태의 문자열을 읽을 때 사용  \n",
    "`json.load`: json파일을 읽을 때 사용\n",
    "\n",
    "- encoding error 발생 시, open 내에서 encoding 인자를\n",
    "1. **'utf-8'**\n",
    "2. **'cp949'**\n",
    "3. **'euc-kr'**  \n",
    "로 지정"
   ]
  },
  {
   "cell_type": "code",
   "execution_count": 14,
   "id": "c022f49d",
   "metadata": {},
   "outputs": [
    {
     "name": "stdout",
     "output_type": "stream",
     "text": [
      "{'id': '01', 'language': 'korean', 'edition': 'first', 'author': 'jaehwan jeong'}\n",
      "<class 'dict'>\n"
     ]
    }
   ],
   "source": [
    "import json\n",
    "\n",
    "data = '{\"id\":\"01\", \"language\":\"korean\", \"edition\":\"first\", \"author\":\"jaehwan jeong\"}'\n",
    "loads_data = json.loads(data)\n",
    "print(loads_data)\n",
    "print(type(loads_data))"
   ]
  },
  {
   "cell_type": "code",
   "execution_count": 15,
   "id": "209641a9",
   "metadata": {},
   "outputs": [
    {
     "name": "stdout",
     "output_type": "stream",
     "text": [
      "{'id': '01', 'language': 'korean', 'edition': 'first', 'author': 'jaehwan jeong'}\n"
     ]
    }
   ],
   "source": [
    "import json\n",
    "\n",
    "data = {\"id\":\"01\", \"language\":\"korean\", \"edition\":\"first\", \"author\":\"jaehwan jeong\"}\n",
    "\n",
    "with open(\"jsondata.json\", \"w\", encoding=\"utf-8-sig\") as json_file:\n",
    "    dump_data = json.dump(data, json_file, indent=2) #\n",
    "\n",
    "with open(\"jsondata.json\", \"r\", encoding=\"utf-8-sig\") as json_file:\n",
    "    load_data = json.load(json_file)\n",
    "    print(load_data)"
   ]
  },
  {
   "cell_type": "markdown",
   "id": "23ca7b89",
   "metadata": {},
   "source": [
    "## 3. requests\n",
    "**request**  \n",
    ": Client가 Web Server에 정보를 요청  \n",
    "**response**  \n",
    ": Web Server가 Client에 응답  \n",
    "\n",
    "1. 모듈은 requests 사용\n",
    "2. 함수는 requests.get(url)\n",
    "3. url 주소 선정"
   ]
  },
  {
   "cell_type": "code",
   "execution_count": 16,
   "id": "594f49c8",
   "metadata": {},
   "outputs": [
    {
     "name": "stdout",
     "output_type": "stream",
     "text": [
      "<Response [200]>\n",
      "<Response [200]>\n"
     ]
    }
   ],
   "source": [
    "import requests\n",
    "\n",
    "url = \"https://www.python.org\"\n",
    "resp = requests.get(url)\n",
    "print(resp)\n",
    "\n",
    "url2 = \"https://github.com/Gasso21\"\n",
    "resp2 = requests.get(url2)\n",
    "print(resp2)"
   ]
  },
  {
   "cell_type": "markdown",
   "id": "c431a34e",
   "metadata": {},
   "source": [
    "## Code"
   ]
  },
  {
   "cell_type": "code",
   "execution_count": 2,
   "id": "9f30d43d",
   "metadata": {},
   "outputs": [],
   "source": [
    "from urllib.parse import urlencode, quote_plus\n",
    "from json import loads\n",
    "import requests\n",
    "import json\n",
    "\n",
    "def coordi_gu(lon, lat):\n",
    "    T_url = 'https://apis.openapi.sk.com/tmap/geo/reversegeocoding'\n",
    "    appKey= 'l7xx5a61621932f54b059f93816c0797a2b3'\n",
    "\n",
    "\n",
    "    queryParams = '?' + urlencode({ quote_plus('version'): '1', quote_plus('lat'): lat, quote_plus('lon'): lon, quote_plus('coordType'): 'WGS84GEO', quote_plus('addressType'): 'A00', quote_plus('appKey'): appKey })\n",
    "\n",
    "    resp = requests.get(T_url + queryParams)\n",
    "    response_body = resp.json()\n",
    "\n",
    "    gu = response_body[\"addressInfo\"][\"gu_gun\"] #gu: \"00구\"\n",
    "    return gu"
   ]
  },
  {
   "cell_type": "code",
   "execution_count": 3,
   "id": "3cac0ebe",
   "metadata": {},
   "outputs": [
    {
     "ename": "KeyError",
     "evalue": "'addressInfo'",
     "output_type": "error",
     "traceback": [
      "\u001b[0;31m---------------------------------------------------------------------------\u001b[0m",
      "\u001b[0;31mKeyError\u001b[0m                                  Traceback (most recent call last)",
      "Input \u001b[0;32mIn [3]\u001b[0m, in \u001b[0;36m<cell line: 1>\u001b[0;34m()\u001b[0m\n\u001b[0;32m----> 1\u001b[0m \u001b[43mcoordi_gu\u001b[49m\u001b[43m(\u001b[49m\u001b[38;5;241;43m37.5050881\u001b[39;49m\u001b[43m,\u001b[49m\u001b[43m \u001b[49m\u001b[38;5;241;43m126.9571012\u001b[39;49m\u001b[43m)\u001b[49m\n",
      "Input \u001b[0;32mIn [2]\u001b[0m, in \u001b[0;36mcoordi_gu\u001b[0;34m(lon, lat)\u001b[0m\n\u001b[1;32m     13\u001b[0m resp \u001b[38;5;241m=\u001b[39m requests\u001b[38;5;241m.\u001b[39mget(T_url \u001b[38;5;241m+\u001b[39m queryParams)\n\u001b[1;32m     14\u001b[0m response_body \u001b[38;5;241m=\u001b[39m resp\u001b[38;5;241m.\u001b[39mjson()\n\u001b[0;32m---> 16\u001b[0m gu \u001b[38;5;241m=\u001b[39m \u001b[43mresponse_body\u001b[49m\u001b[43m[\u001b[49m\u001b[38;5;124;43m\"\u001b[39;49m\u001b[38;5;124;43maddressInfo\u001b[39;49m\u001b[38;5;124;43m\"\u001b[39;49m\u001b[43m]\u001b[49m[\u001b[38;5;124m\"\u001b[39m\u001b[38;5;124mgu_gun\u001b[39m\u001b[38;5;124m\"\u001b[39m] \u001b[38;5;66;03m#gu: \"00구\"\u001b[39;00m\n\u001b[1;32m     17\u001b[0m \u001b[38;5;28;01mreturn\u001b[39;00m gu\n",
      "\u001b[0;31mKeyError\u001b[0m: 'addressInfo'"
     ]
    }
   ],
   "source": [
    "coordi_gu(37.5050881, 126.9571012)"
   ]
  },
  {
   "cell_type": "code",
   "execution_count": null,
   "id": "787f6556",
   "metadata": {},
   "outputs": [],
   "source": []
  }
 ],
 "metadata": {
  "kernelspec": {
   "display_name": "Python 3 (ipykernel)",
   "language": "python",
   "name": "python3"
  },
  "language_info": {
   "codemirror_mode": {
    "name": "ipython",
    "version": 3
   },
   "file_extension": ".py",
   "mimetype": "text/x-python",
   "name": "python",
   "nbconvert_exporter": "python",
   "pygments_lexer": "ipython3",
   "version": "3.9.12"
  }
 },
 "nbformat": 4,
 "nbformat_minor": 5
}
