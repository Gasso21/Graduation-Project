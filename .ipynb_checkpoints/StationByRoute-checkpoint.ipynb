{
 "cells": [
  {
   "cell_type": "markdown",
   "id": "c8d78ce0",
   "metadata": {},
   "source": [
    "# BusID -> Coordinate"
   ]
  },
  {
   "cell_type": "markdown",
   "id": "e00ce595",
   "metadata": {},
   "source": [
    "## 1. urllib.parse\n",
    "- URL을 구성 요소로 구문 분석\n",
    "- URL 문자열을 구성요소(주소 지정 체계, 네트워크 위치, 경로 등)으로 분리  \n",
    "- URL 문자열로 결합  \n",
    "- \"상대 URL\"을 주어진 \"기본 URL\"에 따라 절대 URL로 변환하는 표준 인터페이스를 정의\n",
    "\n",
    "**urlllib.parse 모듈은 다음 함수들을 정의**\n",
    "- URL 구문 분석  \n",
    "- <u>URL 인용(quoting)</u>  \n",
    "\n",
    "**URL Quoting**  \n",
    "`urllib.parse.quote(string, safe='/', encoding=None, errors=None) `\n",
    "- 기본적으로 URL의 경로 섹션을 인용하기 위한 것  \n",
    "- 문자열을 퍼센티지 이스케이프를 사용하는 문자열로 바꿔줌  \n",
    "- safe Parm.은 encoding하지 않을 인자를 입력. **default값은 '/'**\n",
    "- encoding Parm.은 encoding 방식을 입력. **default값은 'utf-8'**\n",
    "- errors Parm.은 error를 발생시키는 방법을 입력. **default값은 quote()에서 'strict', unquote()에서 'replace'**\n",
    "\n",
    "`urllib.parse.quote_plus(string, safe=' ', encoding=None, errors=None)`\n",
    "- 기본적으로 urllib.parse.quote와 동일함  \n",
    "- 띄어쓰기를 출력해주는 방식이 \"%20\" -> \"+\" 라는 차이가 있음\n",
    "\n",
    "`urllib.parse.urlencode()`\n",
    "- Get으로 요청 시에 사용하는 Parameters의 Request를 자동으로 생성"
   ]
  },
  {
   "cell_type": "code",
   "execution_count": 35,
   "id": "349113f3",
   "metadata": {},
   "outputs": [
    {
     "name": "stdout",
     "output_type": "stream",
     "text": [
      "이름은 Jaehwan\n",
      "quote:      %EC%9D%B4%EB%A6%84%EC%9D%80%20Jaehwan\n",
      "quote_plus: %EC%9D%B4%EB%A6%84%EC%9D%80+Jaehwan\n",
      "unquote:    이름은 Jaehwan\n",
      "urlencode:  key01=value01&key02=value02\n"
     ]
    }
   ],
   "source": [
    "from urllib.parse import quote, quote_plus, unquote, urlencode\n",
    "\n",
    "test_str = '이름은 Jaehwan'\n",
    "print('{0}' .format(test_str))\n",
    "print('quote:      {0}' .format(quote(test_str)))\n",
    "print('quote_plus: {0}' .format(quote_plus(test_str)))\n",
    "\n",
    "print('unquote:    {0}' .format(unquote(quote(test_str))))\n",
    "\n",
    "params = {}\n",
    "params['key01'] = 'value01'\n",
    "params['key02'] = 'value02'\n",
    "params = urlencode(params)\n",
    "print('urlencode:  %s' %(params))"
   ]
  },
  {
   "cell_type": "markdown",
   "id": "d29aa8f5",
   "metadata": {},
   "source": [
    "## 2. urllib.request\n",
    "- URL요청 클래스/함수들 정의\n",
    "- 데이터를 전송할 때 인코딩을 해서 바이너리 형태로 전송\n",
    "- 존재하지 않는 페이지를 요청하면 에러를 출력\n",
    "- 파이썬에 설치된 기본 모듈로써, 외부 통신이 안되는 경우에도 사용이 가능\n",
    "\n",
    "`urlopen(url, data=None, cafile=None, capath=None, cadefault=False, context=None)`\n",
    "- url: 문자열로 된 url이나 Request객체(urllib.request.Request 클래스로 인스턴트를 받음)\n",
    "- data: Post방식으로 요청 시의 데이터\n",
    "- timeout: 연결 시도에 대한 시간 초과 '초(seconds)'\n",
    "- cafile, capath, cadefault: CA 인증서에 대한 인자\n",
    "- context: ssl.SSLContext 객체\n",
    "\n",
    "**반환 객체는 아래 함수를 지원**   \n",
    "1. **geturl()**: 받아온 리소스의 url\n",
    "2. **info()**: 패킷의 메타 데이터(헤더 등)\n",
    "3. **getcode()**: 응답 패킷의 HTTP 상태 코드\n",
    "4. **read()**: 받아온 데이터를 바이트형으로 출력\n",
    "5. **read().decode()**: HTML 형식으로 출력\n",
    "6. **readline()**: 받아온 데이터를 바이트형으로 한 줄씩 출력\n",
    "7. **close()**: 연결 종료\n",
    "\n",
    "> **urlopen의 일반적인 사용 예**   \n",
    "`x = urlopen(요청 URL)   \n",
    "x = urlopen(Request(요청 URL)`\n",
    "\n",
    "> **요청 시 전송할 데이터를 지정하여 urlopen을 사용하는 예 (POST방식에 사용)**   \n",
    "`x = urlopen(URL, data).  \n",
    "x = urlopen(Requests(URL), data`\n",
    "\n",
    "\n",
    "> **웹 페이지 내용 화면에 출력**   \n",
    "`url = ''    \n",
    "with urlopen(url) as x:    \n",
    "    print(x.read())`\n",
    "    \n",
    "> **웹 서버로부터의 응답 정보 출력**   \n",
    "`url = ''\n",
    "with urlopen(url) as x:\n",
    "    print(x.geturl()) #실제로 응답한 URL\n",
    "    print(x.info()) #헤더 등과 같은 페이지의 메타 정보\n",
    "    print(x.getcode()) #HTTP 응답코드`\n",
    "\n",
    "`Request(url, data=None, headers={}, origin_req_host=None, unverifiable=False, method=None)`\n",
    "- url 요청을 추상화하기위한 클래스\n",
    "- urllib.request.urlopen()함수의 인자로 넘겨주기 위해 url 요청을 인스턴트화\n",
    "- **url**: 문자열로된 url\n",
    "- **data**: 요청에 대한 추가 데이터의 객체를 지정하거나 None을 지정\n",
    "- **headers**: 요청에 필요한 헤더를 넣어줌(Type: Dictionary)\n",
    "- **origin_req_host**: 원본 트랙잭션의 요청 호스트를 지정. 기본 값은 URL을 요청한 호스트\n",
    "- **unverifiable**: 요청에 대해 검증할 수 없는지의 여부(True/False)를 지정. 기본값은 False\n",
    "- **method**: HTTP 요청 메소드가 들어감. 기본값은 GET이고 HEAD, POST 등을 지정\n",
    "\n",
    "**반환 객체는 아래 함수와 변수를 지원**   \n",
    "1. **Request.full_url**: 전달된 원본 URL\n",
    "2. **Request.type**: URL Scheme을 담고있는 변수\n",
    "3. **Request.host**: 요청된 URL의 호스트 부분을 담고있는 변수\n",
    "4. **Request.origin_req_host**: 포트를 제외한 원래의 호스트 부분을 담고있는 변수\n",
    "5. **Request.method**: 요청에 사용되는 HTTP 메소드를 설정하는 변수\n",
    "6. **Request.get_method()**: 요청에 사용될 HTTP 메소드를 반환"
   ]
  },
  {
   "cell_type": "code",
   "execution_count": 15,
   "id": "ea4c9216",
   "metadata": {},
   "outputs": [
    {
     "name": "stdout",
     "output_type": "stream",
     "text": [
      "b'\\n\\n\\n\\n<!DOCTYPE html>\\n<html lang=\"ko\">\\n<head>\\n    <meta http-equiv=\"X-UA-Compatible\" content=\"IE=edge\">\\n    <base href=\"/home\" />\\n    <meta name=\"robots\" content=\"noindex,nofollow\"/>\\n    <meta name=\"referrer\" content=\"always\"/>\\n    <meta name=\"format-detection\" content=\"telephone=no\">\\n    <link rel=\"shortcut icon\" type=\"image/x-icon\" href=\"https://section.blog.naver.com/favicon.ico?3\"/>\\n    \\n\\n\\n\\n\\n \\n\\n\\t\\n\\t\\n\\t\\t<meta property=\"og:title\" content=\"\\xeb\\x84\\xa4\\xec\\x9d\\xb4\\xeb\\xb2\\x84 \\xeb\\xb8\\x94\\xeb\\xa1\\x9c\\xea\\xb7\\xb8\"/>\\n\\t\\t<meta property=\"og:image\" content=\"https://blogimgs.pstatic.net/nblog/mylog/post/og_default_image_160610.png\"/>\\n\\t\\t<meta property=\"og:description\" content=\"\\xeb\\x8b\\xb9\\xec\\x8b\\xa0\\xec\\x9d\\x98 \\xeb\\xaa\\xa8\\xeb\\x93\\xa0 \\xea\\xb8\\xb0\\xeb\\xa1\\x9d\\xec\\x9d\\x84 \\xeb\\x8b\\xb4\\xeb\\x8a\\x94 \\xea\\xb3\\xb5\\xea\\xb0\\x84\"/>\\n\\t\\n\\n<meta property=\"me:feed:serviceId\" content=\"blog\" />\\n\\n    <meta http-equiv=\"Content-Type\" content=\"text/html; charset=UTF-8\" />\\n    <title>\\xeb\\x84\\xa4\\xec\\x9d\\xb4\\xeb\\xb2\\x84 \\xeb\\xb8\\x94\\xeb\\xa1\\x9c\\xea\\xb7\\xb8</title>\\n\\n    <link rel=\"stylesheet\" type=\"text/css\" href=\"https://ssl.pstatic.net/t.static.blog/section/versioning/section_ngapp-438711480_https.css\" charset=\"UTF-8\" />\\n\\n    <script>\\n        var angularConfig = {\"isDev\":false,\"jeagleEyeDebug\":false};\\n        var readOnlyStatus = {\"isReadOnly\":false,\"startTime\":null,\"endTime\":null,\"reason\":null,\"usageTip\":null,\"maintenanceType\":null,\"maintenancePeriod\":null};\\n        var urlMap = {\"item2\":\"https://item2.naver.com\",\"ad\":\"https://siape.veta.naver.com\",\"id_secret\":\"https://nid.naver.com\",\"likeit\":\"https://blog.like.naver.com\",\"nmobile\":\"https://m.blog.naver.com\",\"admin\":\"https://admin.blog.naver.com\",\"section\":\"https://section.blog.naver.com\",\"blog\":\"https://blog.naver.com\",\"spi\":\"https://ssl.pstatic.net/spi\",\"blogprofilethumb\":\"https://blogpfthumb-phinf.pstatic.net\",\"kin\":\"http://kin.naver.com\",\"help\":\"http://help.naver.com\",\"search\":\"http://search.naver.com\",\"guestbook\":\"https://guestbook.blog.naver.com\",\"sspndpsdk\":\"https://ssl.pstatic.net/tveta/libs/ndpsdk/prod\",\"gn_stndard\":\"https://ssl.pstatic.net/static.gn/templates/gnb_utf8.nhn\",\"uns\":\"https://notice.naver.com\",\"sellerBlog\":\"https://seller.blog.naver.com\",\"thumbnail2\":\"https://blogthumb.pstatic.net\",\"lcs\":\"lcs.naver.com\"};\\n        var nsc = \"blog.mainv2\";\\n\\n        // \\xed\\x8c\\x9d\\xec\\x97\\x85\\xec\\x9d\\x84 \\xed\\x86\\xb5\\xed\\x95\\xb4\\xec\\x84\\x9c \\xeb\\xb6\\x80\\xeb\\xaa\\xa8\\xec\\xb0\\xbd\\xec\\x9d\\x84 \\xec\\xa0\\x9c\\xec\\x96\\xb4\\xed\\x95\\x98\\xea\\xb8\\xb0 \\xec\\x9c\\x84\\xed\\x95\\xb4 \\xed\\x95\\x84\\xec\\x9a\\x94\\n        // document.domain = \\'naver.com\\';\\n        //\\xed\\x8a\\x9c\\xed\\x86\\xa0\\xeb\\xa6\\xac\\xec\\x96\\xbc css \\xea\\xb0\\x80 \\xec\\xa0\\x9c\\xeb\\x8c\\x80\\xeb\\xa1\\x9c \\xeb\\x8f\\x99\\xec\\x9e\\x91\\xec\\x95\\x88\\xed\\x95\\xb4\\xec\\x84\\x9c \\xed\\x95\\x84\\xec\\x9a\\x94\\n        var doc = document.documentElement;\\n        doc.setAttribute(\\'data-useragent\\',navigator.userAgent);\\n        var uploadURL = \"https://upload.blog.naver.com\";\\n    </script>\\n    <script type=\"text/javascript\" src=\"https://ssl.pstatic.net/t.static.blog/section/versioning//common/js/lottie.min-0e23629_https.js\"></script>\\n    <script type=\"text/javascript\" src=\"https://ssl.pstatic.net/t.static.blog/section/versioning/NgAppBundle1-1779195537_https.js\" charset=\"UTF-8\"></script>\\n    <script type=\"text/javascript\" src=\"https://ssl.pstatic.net/t.static.blog/section/versioning/NgAppBundle2-579210374_https.js\" charset=\"UTF-8\"></script>\\n    <script type=\"text/javascript\" src=\"https://ssl.pstatic.net/t.static.blog/section/versioning/NgTemplate-670468252_https.js\" charset=\"UTF-8\"></script>\\n    \\n</head>\\n<template id=\"blogDomainRegisterLayerTemplate\">\\n    <div id=\"sellerAlertLayer\" class=\"SetBlogId_layer_wrap\" style=\"display:none;\">\\n        <div class=\"caution_alert_content\">\\n            <i class=\"icon\"></i>\\n            <div class=\"text_area\">\\n                <strong class=\"title\">\\xeb\\xb8\\x94\\xeb\\xa1\\x9c\\xea\\xb7\\xb8 \\xec\\xa3\\xbc\\xec\\x86\\x8c \\xeb\\xb3\\x80\\xea\\xb2\\xbd \\xeb\\xb6\\x88\\xea\\xb0\\x80 \\xec\\x95\\x88\\xeb\\x82\\xb4</strong>\\n                <p class=\"desc\">\\n                    \\xeb\\xb8\\x94\\xeb\\xa1\\x9c\\xea\\xb7\\xb8 \\xeb\\xa7\\x88\\xec\\xbc\\x93 \\xed\\x8c\\x90\\xeb\\xa7\\xa4\\xec\\x9e\\x90\\xec\\x9d\\x98 \\xec\\x9d\\xb4\\xeb\\xa0\\xa5 \\xea\\xb4\\x80\\xeb\\xa6\\xac\\xeb\\xa5\\xbc \\xec\\x9c\\x84\\xed\\x95\\xb4<br>\\n                    \\xeb\\xb8\\x94\\xeb\\xa1\\x9c\\xea\\xb7\\xb8 \\xec\\xa3\\xbc\\xec\\x86\\x8c \\xeb\\xb3\\x80\\xea\\xb2\\xbd\\xec\\x9d\\xb4 \\xeb\\xb6\\x88\\xea\\xb0\\x80\\xed\\x95\\xa9\\xeb\\x8b\\x88\\xeb\\x8b\\xa4.\\n                </p>\\n            </div>\\n            <div class=\"btn_area\">\\n                <a href=\"https://help.naver.com/alias/blog/blogmarket/blogmarket14.naver\" class=\"btn\">\\xec\\x9e\\x90\\xec\\x84\\xb8\\xed\\x9e\\x88 \\xeb\\xb3\\xb4\\xea\\xb8\\xb0</a>\\n                <button id=\"sellerAlertLayerClose\" type=\"button\" class=\"close_btn\">\\xeb\\xa0\\x88\\xec\\x9d\\xb4\\xec\\x96\\xb4 \\xeb\\x8b\\xab\\xea\\xb8\\xb0</button>\\n            </div>\\n        </div>\\n    </div>\\n\\n    <div id=\"blogDomainRegisterSuggestionLayer\" class=\"SetBlogId_layer_wrap IntroBlogId_layer\" style=\"display: none;\">\\n        <div class=\"BlogId_content\">\\n            <div class=\"img_area\">\\n                <img src=\"https://ssl.pstatic.net/static/blog/img_ani_blogid1.gif\" width=\"335\" height=\"260\" class=\"img\" alt=\"\\xeb\\xb8\\x94\\xeb\\xa1\\x9c\\xea\\xb7\\xb8 \\xec\\x95\\x84\\xec\\x9d\\xb4\\xeb\\x94\\x94\\xea\\xb0\\x80 \\xed\\x95\\x84\\xec\\x9a\\x94\\xed\\x95\\xb4\\xec\\x9a\\x94!\">\\n            </div>\\n            <div class=\"text_area\">\\n                <strong class=\"title\">\\xeb\\xb8\\x94\\xeb\\xa1\\x9c\\xea\\xb7\\xb8 \\xec\\x95\\x84\\xec\\x9d\\xb4\\xeb\\x94\\x94\\xea\\xb0\\x80 \\xed\\x95\\x84\\xec\\x9a\\x94\\xed\\x95\\xb4\\xec\\x9a\\x94!</strong>\\n                <p class=\"desc\">\\n                    \\xeb\\xb8\\x94\\xeb\\xa1\\x9c\\xea\\xb7\\xb8\\xec\\x97\\x90\\xec\\x84\\x9c \\xec\\xa7\\x84\\xec\\xa7\\x9c \\xeb\\x82\\x98\\xeb\\xa5\\xbc \\xea\\xb8\\xb0\\xeb\\xa1\\x9d\\xed\\x95\\x98\\xea\\xb3\\xa0<br>\\n                    \\xeb\\x8b\\xa4\\xec\\x96\\x91\\xed\\x95\\x9c \\xec\\x9d\\xb4\\xec\\x9b\\x83\\xea\\xb3\\xbc \\xec\\x86\\x8c\\xec\\x8b\\x9d\\xec\\x9d\\x84 \\xeb\\xa7\\x8c\\xeb\\x82\\x98\\xeb\\xb3\\xb4\\xec\\x84\\xb8\\xec\\x9a\\x94. \\xec\\xa7\\x80\\xea\\xb8\\x88 \\xec\\x8b\\x9c\\xec\\x9e\\x91\\xed\\x95\\xb4\\xeb\\xb3\\xbc\\xea\\xb9\\x8c\\xec\\x9a\\x94?\\n                </p>\\n            </div>\\n            <div class=\"btn_area\">\\n                <a id=\"blogDomainRegisterStartBtn\" onclick=\"clickcr(this, \\'bsu.popupok\\', \\'\\', \\'\\', event);return false;\" class=\"btn\">\\xeb\\xb8\\x94\\xeb\\xa1\\x9c\\xea\\xb7\\xb8 \\xec\\x95\\x84\\xec\\x9d\\xb4\\xeb\\x94\\x94 \\xeb\\xa7\\x8c\\xeb\\x93\\xa4\\xea\\xb8\\xb0</a>\\n                <a id=\"blogDomainRegisterSuggestionLayerCloseBtn\" onclick=\"clickcr(this, \\'bsu.popupclose\\', \\'\\', \\'\\', event);return false;\" class=\"close_btn\">\\xeb\\xb8\\x94\\xeb\\xa1\\x9c\\xea\\xb7\\xb8 \\xec\\x95\\x84\\xec\\x9d\\xb4\\xeb\\x94\\x94 \\xeb\\xa7\\x8c\\xeb\\x93\\xa4\\xea\\xb8\\xb0 \\xeb\\xa0\\x88\\xec\\x9d\\xb4\\xec\\x96\\xb4 \\xeb\\x8b\\xab\\xea\\xb8\\xb0</a>\\n            </div>\\n        </div>\\n    </div>\\n\\n    <div id=\"domainInputLayer\" class=\"SetBlogId_layer_wrap\" style=\"display: none;\">\\n        <div class=\"BlogId_content\">\\n            <h1 id=\"blogDomainTitle\" class=\"title_h1\"></h1>\\n            <div class=\"domain\">\\n                blog.naver.com/<strong id=\"domainIdInfo\" class=\"blogid\"></strong>\\n            </div>\\n            <!-- \\xec\\x98\\xa4\\xeb\\xa5\\x98 .error -->\\n            <!-- \\xec\\x9d\\xb8\\xec\\xa6\\x9d \\xec\\x84\\xb1\\xea\\xb3\\xb5 .success -->\\n            <div id=\"blogidMessageWrap\" class=\"input_blogid_area\">\\n                <input id=\"domainInput\" class=\"input_text\" type=\"text\" placeholder=\"\\xeb\\xb8\\x94\\xeb\\xa1\\x9c\\xea\\xb7\\xb8\\xec\\x95\\x84\\xec\\x9d\\xb4\\xeb\\x94\\x94\" maxlength=\"20\" autocomplete=\"off\">\\n                <div class=\"right_area\">\\n                    <button id=\"clearDomainInputBtn\" type=\"button\" class=\"del_btn\" style=\"display: none\">\\n                        \\xec\\x9e\\x85\\xeb\\xa0\\xa5 \\xeb\\x82\\xb4\\xec\\x9a\\xa9 \\xec\\x82\\xad\\xec\\xa0\\x9c\\n                    </button>\\n                    <!-- \\xec\\x95\\x84\\xec\\x9d\\xb4\\xeb\\x94\\x94 \\xec\\x9e\\x85\\xeb\\xa0\\xa5\\xec\\xa4\\x91 -->\\n                    <i class=\"loading_icon\" id=\"loading_icon\"></i>\\n                </div>\\n                <div id=\"domainMessage\" class=\"message\"></div>\\n            </div>\\n            <div id= \"recommendDomainIdDiv\" class=\"recommend_blogid\">\\n                <ul id=\"recommendDomainId\" class=\"list\">\\n                </ul>\\n            </div>\\n            <div class=\"desc_area\">\\n                <ul class=\"list\">\\n                    <li class=\"item\">\\n                        \\xec\\x84\\xa4\\xec\\xa0\\x95\\xed\\x95\\x9c \\xec\\x95\\x84\\xec\\x9d\\xb4\\xeb\\x94\\x94\\xeb\\x8a\\x94 \\xeb\\x82\\x98\\xec\\xa4\\x91\\xec\\x97\\x90 \\xeb\\xb3\\x80\\xea\\xb2\\xbd\\xed\\x95\\xa0 \\xec\\x88\\x98 \\xec\\x97\\x86\\xec\\x9c\\xbc\\xeb\\x8b\\x88 \\xec\\x8b\\xa0\\xec\\xa4\\x91\\xed\\x95\\x98\\xea\\xb2\\x8c \\xec\\x9e\\x85\\xeb\\xa0\\xa5\\xed\\x95\\xb4\\xec\\xa3\\xbc\\xec\\x84\\xb8\\xec\\x9a\\x94.\\n                    </li>\\n                    <li class=\"item blogDomainChangeOnlyViewDesc\">\\n                        \\xeb\\xb3\\x80\\xea\\xb2\\xbd \\xec\\xa0\\x84 \\xea\\xb3\\xb5\\xec\\x9c\\xa0\\xeb\\x90\\x9c \\xeb\\xb8\\x94\\xeb\\xa1\\x9c\\xea\\xb7\\xb8/\\xea\\xb8\\x80/\\xeb\\xaa\\xa8\\xeb\\xa8\\xbc\\xed\\x8a\\xb8 \\xeb\\xa7\\x81\\xed\\x81\\xac\\xeb\\x8a\\x94 \\xec\\x97\\xb0\\xea\\xb2\\xb0\\xec\\x9d\\xb4 \\xeb\\x81\\x8a\\xea\\xb8\\xb8 \\xec\\x88\\x98 \\xec\\x9e\\x88\\xec\\x8a\\xb5\\xeb\\x8b\\x88\\xeb\\x8b\\xa4.\\n                    </li>\\n                    <li class=\"item\">\\n                        <strong class=\"strong\">\\xeb\\x84\\xa4\\xec\\x9d\\xb4\\xeb\\xb2\\x84 \\xec\\x95\\x84\\xec\\x9d\\xb4\\xeb\\x94\\x94 \\xeb\\x98\\x90\\xeb\\x8a\\x94 \\xea\\xb0\\x9c\\xec\\x9d\\xb8\\xec\\xa0\\x95\\xeb\\xb3\\xb4\\xea\\xb0\\x80 \\xed\\x8f\\xac\\xed\\x95\\xa8\\xeb\\x90\\x9c \\xeb\\xac\\xb8\\xec\\x9e\\x90 \\xec\\x82\\xac\\xec\\x9a\\xa9</strong>\\xec\\x9d\\x80 \\xed\\x94\\xbc\\xed\\x95\\xb4\\xec\\xa3\\xbc\\xec\\x84\\xb8\\xec\\x9a\\x94.\\n                    </li>\\n                    <li class=\"item blogDomainChangeOnlyViewDesc\">\\n                        \\xeb\\xb8\\x94\\xeb\\xa1\\x9c\\xea\\xb7\\xb8 \\xeb\\x8f\\x84\\xec\\x9b\\x80\\xeb\\xa7\\x90\\xec\\x97\\x90\\xec\\x84\\x9c \\xec\\x95\\x84\\xec\\x9d\\xb4\\xeb\\x94\\x94 \\xeb\\xb3\\x80\\xea\\xb2\\xbd \\xec\\x9c\\xa0\\xec\\x9d\\x98\\xec\\x82\\xac\\xed\\x95\\xad\\xec\\x9d\\x84 \\xed\\x99\\x95\\xec\\x9d\\xb8\\xed\\x95\\xb4\\xeb\\xb3\\xb4\\xec\\x84\\xb8\\xec\\x9a\\x94.\\n                    </li>\\n                </ul>\\n            </div>\\n            <div class=\"btn_area\">\\n                <button id=\"blogDomainRegisterCancelBtn\" type=\"button\" class=\"cancel_btn\">\\n                    \\xeb\\x82\\x98\\xec\\xa4\\x91\\xec\\x97\\x90 \\xed\\x95\\xa0\\xea\\xb2\\x8c\\xec\\x9a\\x94\\n                </button>\\n                <input id=\"domainRegisterBtn\" type=\"submit\" value=\"\\xed\\x99\\x95\\xec\\x9d\\xb8\" class=\"submit_btn\" onclick=\"return false;\" disabled=\"\">\\n            </div>\\n        </div>\\n    </div>\\n\\n    <div id=\"domainChangeConfirmLayer\" class=\"SetBlogId_layer_wrap SetBlogIdAlert_wrap\" style=\"display:none;\">\\n        <div class=\"SetBlogIdAlert_content\">\\n            <div class=\"blogid_area\">\\n                <div id=\"changeConfirmDomainId\" class=\"blogid\"></div>\\n                <div id=\"changeConfirmDomainURL\" class=\"domain\"></div>\\n            </div>\\n            <div class=\"text_area\">\\n                <p class=\"text_small\">\\n                    1. \\xec\\x9d\\xb4\\xec\\xa0\\x84 \\xec\\xa3\\xbc\\xec\\x86\\x8c\\xeb\\xa1\\x9c \\xec\\x99\\xb8\\xeb\\xb6\\x80\\xec\\x97\\x90 \\xea\\xb3\\xb5\\xec\\x9c\\xa0\\xeb\\x90\\x9c \\xea\\xb8\\x80\\xec\\x9d\\x80<br>\\n                    3\\xea\\xb0\\x9c\\xec\\x9b\\x94\\xea\\xb0\\x84 \\xec\\x83\\x88\\xeb\\xa1\\x9c\\xec\\x9a\\xb4 \\xec\\xa3\\xbc\\xec\\x86\\x8c\\xeb\\xa1\\x9c \\xec\\x97\\xb0\\xea\\xb2\\xb0\\xec\\x9d\\x84 \\xec\\xa7\\x80\\xec\\x9b\\x90\\xed\\x95\\x98\\xeb\\xa9\\xb0<br>\\n                    \\xec\\x9d\\xb4\\xed\\x9b\\x84 \\xec\\x96\\xb8\\xec\\xa0\\x9c\\xeb\\x93\\xa0 \\xec\\x97\\xb0\\xea\\xb2\\xb0\\xec\\x9d\\xb4 \\xeb\\x81\\x8a\\xea\\xb8\\xb8 \\xec\\x88\\x98 \\xec\\x9e\\x88\\xec\\x8a\\xb5\\xeb\\x8b\\x88\\xeb\\x8b\\xa4.\\n                </p>\\n                <p class=\"text_small\">\\n                    2. \\xeb\\xb8\\x94\\xeb\\xa1\\x9c\\xea\\xb7\\xb8 \\xec\\x95\\x84\\xec\\x9d\\xb4\\xeb\\x94\\x94\\xeb\\x8a\\x94 \\xed\\x95\\x9c\\xeb\\xb2\\x88 \\xeb\\xb3\\x80\\xea\\xb2\\xbd\\xed\\x95\\x98\\xeb\\xa9\\xb4<br>\\n                    <strong class=\"red_color\">\\xeb\\x8b\\xa4\\xec\\x8b\\x9c \\xeb\\xb3\\x80\\xea\\xb2\\xbd\\xec\\x9d\\xb4 \\xeb\\xb6\\x88\\xea\\xb0\\x80\\xeb\\x8a\\xa5</strong>\\xed\\x95\\xa9\\xeb\\x8b\\x88\\xeb\\x8b\\xa4.\\n                </p>\\n                <p class=\"text_small\">\\n                    <strong>\\xeb\\xb3\\x80\\xea\\xb2\\xbd\\xed\\x95\\x98\\xec\\x8b\\x9c\\xea\\xb2\\xa0\\xec\\x8a\\xb5\\xeb\\x8b\\x88\\xea\\xb9\\x8c?</strong>\\n                </p>\\n            </div>\\n            <div class=\"btn_area\">\\n                <button id=\"changeConfirmCancleBtn\" type=\"button\" class=\"btn\">\\xec\\xb7\\xa8\\xec\\x86\\x8c</button>\\n                <button id=\"changeConfirmSubmitBtn\" type=\"button\" class=\"btn\">\\xed\\x99\\x95\\xec\\x9d\\xb8</button>\\n            </div>\\n        </div>\\n    </div>\\n\\n    <div id=\"domainConfirmLayer\" class=\"SetBlogId_layer_wrap SetBlogIdAlert_wrap\" style=\"display:none;\">\\n        <div class=\"SetBlogIdAlert_content\">\\n            <div class=\"blogid_area\">\\n                <div class=\"img_area\">\\n                    <img src=\"https://ssl.pstatic.net/static/blog/img_ani_blogid2.gif\" width=\"208\" height=\"86\" alt=\"\\xec\\x84\\xac\\xeb\\x84\\xa4\\xec\\x9d\\xbc\">\\n                </div>\\n                <div id=\"confirmDomainId\" class=\"blogid\"></div>\\n                <div id=\"confirmDomainURL\" class=\"domain\"></div>\\n            </div>\\n            <div class=\"text_area\">\\n                <p class=\"text_red\">\\n                    \\xeb\\xb8\\x94\\xeb\\xa1\\x9c\\xea\\xb7\\xb8 \\xec\\x95\\x84\\xec\\x9d\\xb4\\xeb\\x94\\x94\\xeb\\x8a\\x94 \\xed\\x95\\x9c\\xeb\\xb2\\x88 \\xec\\xa0\\x95\\xed\\x95\\x98\\xeb\\xa9\\xb4\\n                    <br>\\n                    \\xeb\\x8b\\xa4\\xec\\x8b\\x9c \\xeb\\xb3\\x80\\xea\\xb2\\xbd\\xec\\x9d\\xb4 \\xeb\\xb6\\x88\\xea\\xb0\\x80\\xeb\\x8a\\xa5\\xed\\x95\\xa9\\xeb\\x8b\\x88\\xeb\\x8b\\xa4.\\n                </p>\\n                <p class=\"text\">\\xec\\x9d\\xb4 \\xec\\x95\\x84\\xec\\x9d\\xb4\\xeb\\x94\\x94\\xeb\\xa1\\x9c \\xeb\\xb8\\x94\\xeb\\xa1\\x9c\\xea\\xb7\\xb8\\xeb\\xa5\\xbc \\xeb\\xa7\\x8c\\xeb\\x93\\xa4\\xea\\xb9\\x8c\\xec\\x9a\\x94?</p>\\n            </div>\\n            <div class=\"btn_area\">\\n                <button id=\"confirmCancleBtn\" type=\"button\" class=\"btn\">\\xec\\xb7\\xa8\\xec\\x86\\x8c</button>\\n                <button id=\"confirmSubmitBtn\" type=\"button\" class=\"btn\">\\xed\\x99\\x95\\xec\\x9d\\xb8</button>\\n            </div>\\n        </div>\\n    </div>\\n\\n    <div id=\"domainWelcomeLayer\" class=\"SetBlogId_layer_wrap WelcomeSetBlogId_layer_wrap\" style=\"display:none\">\\n        <div class=\"BlogId_content\">\\n            <h1 class=\"title_h1\">\\n                \\xed\\x99\\x98\\xec\\x98\\x81\\xed\\x95\\xa9\\xeb\\x8b\\x88\\xeb\\x8b\\xa4!<br>\\n                \\xeb\\xb8\\x94\\xeb\\xa1\\x9c\\xea\\xb7\\xb8 \\xec\\x95\\x84\\xec\\x9d\\xb4\\xeb\\x94\\x94\\xea\\xb0\\x80 \\xeb\\xa7\\x8c\\xeb\\x93\\xa4\\xec\\x96\\xb4\\xec\\xa1\\x8c\\xec\\x96\\xb4\\xec\\x9a\\x94.\\n            </h1>\\n            <div class=\"img_area\">\\n                <img src=\"https://ssl.pstatic.net/static/blog/img_ani_blogid3_2.gif\" class=\"img\" width=\"500\" height=\"281\" alt=\"\\xec\\x84\\xac\\xeb\\x84\\xa4\\xec\\x9d\\xbc\"/>\\n            </div>\\n            <div class=\"text_area\">\\n                <div id=\"welcomeBlogId\" class=\"blogid\"></div>\\n                <div id=\"welcomeBlogURL\" class=\"domain\">\\n                    blog.naver.com/\\n                </div>\\n            </div>\\n            <div class=\"btn_area\">\\n                <a id=\"closeWelcomeLayer\" onclick=\"clickcr(this, \\'bsu*i.start\\', \\'\\', \\'\\', event);return false;\" class=\"btn blue\">\\xeb\\xb0\\x94\\xeb\\xa1\\x9c \\xec\\x8b\\x9c\\xec\\x9e\\x91\\xed\\x95\\x98\\xea\\xb8\\xb0</a>\\n                <a id=\"nextStep\" onclick=\"clickcr(this, \\'bsu*i.inform\\', \\'\\', \\'\\', event);return false;\" class=\"btn green\">\\xec\\xb6\\x94\\xea\\xb0\\x80\\xec\\xa0\\x95\\xeb\\xb3\\xb4 \\xec\\x9e\\x85\\xeb\\xa0\\xa5\\xed\\x95\\x98\\xea\\xb8\\xb0</a>\\n            </div>\\n        </div>\\n    </div>\\n\\n    <div id=\"blogBasicInfoLayer\" class=\"SetBlogId_layer_wrap InputBlogId_layer_wrap\" style=\"display:none\">\\n        <div class=\"BlogId_content\">\\n            <h1 class=\"title_h1\">\\xea\\xb8\\xb0\\xeb\\xb3\\xb8\\xec\\xa0\\x95\\xeb\\xb3\\xb4\\xeb\\xa5\\xbc \\xec\\x9e\\x85\\xeb\\xa0\\xa5\\xed\\x95\\xb4\\xec\\xa3\\xbc\\xec\\x84\\xb8\\xec\\x9a\\x94.</h1>\\n            <p class=\"title_desc\">\\xeb\\x82\\x98\\xec\\xa4\\x91\\xec\\x97\\x90 \\xec\\x96\\xb8\\xec\\xa0\\x9c\\xeb\\x93\\xa0\\xec\\xa7\\x80 \\xeb\\xb3\\x80\\xea\\xb2\\xbd\\xed\\x95\\xa0 \\xec\\x88\\x98 \\xec\\x9e\\x88\\xec\\x96\\xb4\\xec\\x9a\\x94.</p>\\n            <div class=\"profile_area\">\\n                <div class=\"profile\">\\n                    <img id=\"blogDomainProfileImage\" src=\"https://ssl.pstatic.net/static/blog/profile/Profile_defaultIMG_A@2x.png\" width=\"150\" height=\"150\" class=\"img\" alt=\"A\" />\\n                </div>\\n                <button id=\"profileSetBtn\" onclick=\"clickcr(this, \\'bsu*p.profile\\', \\'\\', \\'\\', event);return false;\"  type=\"button\" class=\"profile_set_btn\">\\xed\\x94\\x84\\xeb\\xa1\\x9c\\xed\\x95\\x84 \\xec\\x9d\\xb4\\xeb\\xaf\\xb8\\xec\\xa7\\x80 \\xec\\x84\\xa4\\xec\\xa0\\x95</button>\\n                <div id=\"profileSetLayer\" class=\"profile_set_layer\">\\n                    <div class=\"top_btn_area\">\\n                        <button id=\"profileImageClear\" onclick=\"clickcr(this, \\'bsu*p.prfdelete\\', \\'\\', \\'\\', event);\" type=\"button\" class=\"del_btn\">\\xec\\xa7\\x80\\xec\\x9a\\xb0\\xea\\xb8\\xb0</button>\\n                        <div class=\"file_btn\">\\n                            <label class=\"label\" for=\"profile_upload_btn\">\\xec\\x82\\xac\\xec\\xa7\\x84 \\xec\\x97\\x85\\xeb\\xa1\\x9c\\xeb\\x93\\x9c</label>\\n                            <input type=\"file\" onclick=\"clickcr(this, \\'bsu*p.prfupload\\', \\'\\', \\'\\', event);\" id=\"profile_upload_btn\" class=\"input_file\" accept=\".png, .jpg, .jpeg, .gif, .bmp\"/>\\n                        </div>\\n                    </div>\\n                    <ul id=\"profilePresetList\" class=\"profile_list\">\\n                        <li class=\"item\">\\n                            <button type=\"button\" onclick=\"clickcr(this, \\'bsu*p.prfop1\\', \\'\\', \\'\\', event);\" class=\"btn\"><img src=\"https://ssl.pstatic.net/static/blog/profile/img_profile_preset_01.png\" width=\"59\" height=\"59\" class=\"img\" alt=\"\\xed\\x94\\x84\\xeb\\xa6\\xac\\xec\\x85\\x8b1\"  /></button>\\n                        </li>\\n                        <li class=\"item\">\\n                            <button type=\"button\" onclick=\"clickcr(this, \\'bsu*p.prfop2\\', \\'\\', \\'\\', event);\" class=\"btn\"><img src=\"https://ssl.pstatic.net/static/blog/profile/img_profile_preset_02.png\" width=\"59\" height=\"59\" class=\"img\" alt=\"\\xed\\x94\\x84\\xeb\\xa6\\xac\\xec\\x85\\x8b2\"  /></button>\\n                        </li>\\n                        <li class=\"item\">\\n                            <button type=\"button\" onclick=\"clickcr(this, \\'bsu*p.prfop3\\', \\'\\', \\'\\', event);\" class=\"btn\"><img src=\"https://ssl.pstatic.net/static/blog/profile/img_profile_preset_03.png\" width=\"59\" height=\"59\" class=\"img\" alt=\"\\xed\\x94\\x84\\xeb\\xa6\\xac\\xec\\x85\\x8b3\"  /></button>\\n                        </li>\\n                        <li class=\"item\">\\n                            <button type=\"button\" onclick=\"clickcr(this, \\'bsu*p.prfop4\\', \\'\\', \\'\\', event);\" class=\"btn\"><img src=\"https://ssl.pstatic.net/static/blog/profile/img_profile_preset_04.png\" width=\"59\" height=\"59\" class=\"img\" alt=\"\\xed\\x94\\x84\\xeb\\xa6\\xac\\xec\\x85\\x8b4\"  /></button>\\n                        </li>\\n                        <li class=\"item\">\\n                            <button type=\"button\" onclick=\"clickcr(this, \\'bsu*p.prfop5\\', \\'\\', \\'\\', event);\" class=\"btn\"><img src=\"https://ssl.pstatic.net/static/blog/profile/img_profile_preset_05.png\" width=\"59\" height=\"59\" class=\"img\" alt=\"\\xed\\x94\\x84\\xeb\\xa6\\xac\\xec\\x85\\x8b5\"  /></button>\\n                        </li>\\n                        <li class=\"item\">\\n                            <button type=\"button\" onclick=\"clickcr(this, \\'bsu*p.prfop6\\', \\'\\', \\'\\', event);\" class=\"btn\"><img src=\"https://ssl.pstatic.net/static/blog/profile/img_profile_preset_06.png\" width=\"59\" height=\"59\" class=\"img\" alt=\"\\xed\\x94\\x84\\xeb\\xa6\\xac\\xec\\x85\\x8b6\"  /></button>\\n                        </li>\\n                        <li class=\"item\">\\n                            <button type=\"button\" onclick=\"clickcr(this, \\'bsu*p.prfop7\\', \\'\\', \\'\\', event);\" class=\"btn\"><img src=\"https://ssl.pstatic.net/static/blog/profile/img_profile_preset_07.png\" width=\"59\" height=\"59\" class=\"img\" alt=\"\\xed\\x94\\x84\\xeb\\xa6\\xac\\xec\\x85\\x8b7\" /></button>\\n                        </li>\\n                        <li class=\"item\">\\n                            <button type=\"button\" onclick=\"clickcr(this, \\'bsu*p.prfop8\\', \\'\\', \\'\\', event);\" class=\"btn\"><img src=\"https://ssl.pstatic.net/static/blog/profile/img_profile_preset_08.png\" width=\"59\" height=\"59\" class=\"img\" alt=\"\\xed\\x94\\x84\\xeb\\xa6\\xac\\xec\\x85\\x8b8\" /></button>\\n                        </li>\\n                    </ul>\\n                    <div class=\"btn_area\">\\n                        <button id=\"proflieImageCancelBtn\" onclick=\"clickcr(this, \\'bsu*p.prfccl\\', \\'\\', \\'\\', event);\" type=\"button\" class=\"cancel_btn\">\\xec\\xb7\\xa8\\xec\\x86\\x8c</button>\\n                        <button id=\"proflieImageSelectedBtn\" onclick=\"clickcr(this, \\'bsu*p.prfok\\', \\'\\', \\'\\', event);\" type=\"button\" class=\"submit_btn\">\\xec\\xa0\\x81\\xec\\x9a\\xa9</button>\\n                    </div>\\n                </div>\\n            </div>\\n            <div class=\"input_area\">\\n                <div class=\"input\">\\n                    <label class=\"label\" for=\"nickname\">\\xeb\\xb3\\x84\\xeb\\xaa\\x85</label>\\n                    <input onclick=\"clickcr(this, \\'bsu*p.nickname\\', \\'\\', \\'\\', event);\" type=\"text\" class=\"input_text\" id=\"nickname\" maxlength=\"20\" autocomplete=\"off\"/>\\n                </div>\\n                <div class=\"input\">\\n                    <label class=\"label\" for=\"blogname\">\\xeb\\xb8\\x94\\xeb\\xa1\\x9c\\xea\\xb7\\xb8\\xeb\\xaa\\x85</label>\\n                    <input onclick=\"clickcr(this, \\'bsu*p.blogname\\', \\'\\', \\'\\', event);\" type=\"text\" class=\"input_text\" id=\"blogname\" maxlength=\"50\" autocomplete=\"off\"/>\\n                </div>\\n                <div class=\"input\">\\n                    <label class=\"label\">\\xeb\\xb8\\x94\\xeb\\xa1\\x9c\\xea\\xb7\\xb8 \\xec\\xa3\\xbc\\xec\\xa0\\x9c</label>\\n                    <button id=\"showBlogThemeList\" onclick=\"clickcr(this, \\'bsu*p.blogtopic\\', \\'\\', \\'\\', event);\" type=\"button\" class=\"theme_btn\">\\xec\\xa3\\xbc\\xec\\xa0\\x9c \\xec\\x97\\x86\\xec\\x9d\\x8c</button>\\n                    <div id=\"basicInfoBlogThemeList\" class=\"theme_list_layer\">\\n                        <strong class=\"title\">\\xec\\x97\\x94\\xed\\x84\\xb0\\xed\\x85\\x8c\\xec\\x9d\\xb8\\xeb\\xa8\\xbc\\xed\\x8a\\xb8\\xc2\\xb7\\xec\\x98\\x88\\xec\\x88\\xa0</strong>\\n                        <ul class=\"list\">\\n                            <li class=\"item\">\\n                                <input type=\"radio\" onclick=\"clickcr(this, \\'bsu*p.option1\\', \\'\\', \\'\\', event);\" class=\"input_radio\" name=\"theme\"  id=\"theme1\" data-directoryseq=\"5\">\\n                                <label for=\"theme1\" class=\"label\">\\xeb\\xac\\xb8\\xed\\x95\\x99\\xc2\\xb7\\xec\\xb1\\x85</label>\\n                            </li>\\n\\n                            <li class=\"item\">\\n                                <input type=\"radio\" onclick=\"clickcr(this, \\'bsu*p.option2\\', \\'\\', \\'\\', event);\" class=\"input_radio\" name=\"theme\" id=\"theme2\" data-directoryseq=\"6\">\\n                                <label for=\"theme2\" class=\"label\">\\xec\\x98\\x81\\xed\\x99\\x94</label>\\n                            </li>\\n\\n                            <li class=\"item\">\\n                                <input type=\"radio\" onclick=\"clickcr(this, \\'bsu*p.option3\\', \\'\\', \\'\\', event);\" class=\"input_radio\" name=\"theme\" id=\"theme3\" data-directoryseq=\"8\">\\n                                <label for=\"theme3\" class=\"label\">\\xeb\\xaf\\xb8\\xec\\x88\\xa0\\xc2\\xb7\\xeb\\x94\\x94\\xec\\x9e\\x90\\xec\\x9d\\xb8</label>\\n                            </li>\\n\\n                            <li class=\"item\">\\n                                <input type=\"radio\" onclick=\"clickcr(this, \\'bsu*p.option4\\', \\'\\', \\'\\', event);\" class=\"input_radio\" name=\"theme\" id=\"theme4\" data-directoryseq=\"7\">\\n                                <label for=\"theme4\" class=\"label\">\\xea\\xb3\\xb5\\xec\\x97\\xb0\\xc2\\xb7\\xec\\xa0\\x84\\xec\\x8b\\x9c</label>\\n                            </li>\\n\\n                            <li class=\"item\">\\n                                <input type=\"radio\" onclick=\"clickcr(this, \\'bsu*p.option5\\', \\'\\', \\'\\', event);\" class=\"input_radio\" name=\"theme\" id=\"theme5\" data-directoryseq=\"11\">\\n                                <label for=\"theme5\" class=\"label\">\\xec\\x9d\\x8c\\xec\\x95\\x85</label>\\n                            </li>\\n\\n                            <li class=\"item\">\\n                                <input type=\"radio\" onclick=\"clickcr(this, \\'bsu*p.option6\\', \\'\\', \\'\\', event);\" class=\"input_radio\" name=\"theme\" id=\"theme6\" data-directoryseq=\"9\">\\n                                <label for=\"theme6\" class=\"label\">\\xeb\\x93\\x9c\\xeb\\x9d\\xbc\\xeb\\xa7\\x88</label>\\n                            </li>\\n\\n                            <li class=\"item\">\\n                                <input type=\"radio\" onclick=\"clickcr(this, \\'bsu*p.option7\\', \\'\\', \\'\\', event);\" class=\"input_radio\" name=\"theme\" id=\"theme7\" data-directoryseq=\"12\">\\n                                <label for=\"theme7\" class=\"label\">\\xec\\x8a\\xa4\\xed\\x83\\x80\\xc2\\xb7\\xec\\x97\\xb0\\xec\\x98\\x88\\xec\\x9d\\xb8</label>\\n                            </li>\\n                            <li class=\"item\">\\n                                <input type=\"radio\" onclick=\"clickcr(this, \\'bsu*p.option8\\', \\'\\', \\'\\', event);\" class=\"input_radio\" name=\"theme\" id=\"theme8\" data-directoryseq=\"13\">\\n                                <label for=\"theme8\" class=\"label\">\\xeb\\xa7\\x8c\\xed\\x99\\x94\\xc2\\xb7\\xec\\x95\\xa0\\xeb\\x8b\\x88</label>\\n                            </li>\\n\\n                            <li class=\"item\">\\n                                <input type=\"radio\" onclick=\"clickcr(this, \\'bsu*p.option9\\', \\'\\', \\'\\', event);\" class=\"input_radio\" name=\"theme\" id=\"theme9\" data-directoryseq=\"10\">\\n                                <label for=\"theme9\" class=\"label\">\\xeb\\xb0\\xa9\\xec\\x86\\xa1</label>\\n                            </li>\\n                        </ul>\\n                        <strong class=\"title\">\\xec\\x83\\x9d\\xed\\x99\\x9c\\xc2\\xb7\\xeb\\x85\\xb8\\xed\\x95\\x98\\xec\\x9a\\xb0\\xc2\\xb7\\xec\\x87\\xbc\\xed\\x95\\x91</strong>\\n                        <ul class=\"list\">\\n                            <li class=\"item\">\\n                                <input type=\"radio\" onclick=\"clickcr(this, \\'bsu*p.option10\\', \\'\\', \\'\\', event);\" class=\"input_radio\" name=\"theme\" id=\"theme10\" data-directoryseq=\"14\">\\n                                <label for=\"theme10\" class=\"label\">\\xec\\x9d\\xbc\\xec\\x83\\x81\\xc2\\xb7\\xec\\x83\\x9d\\xea\\xb0\\x81</label>\\n                            </li>\\n\\n                            <li class=\"item\">\\n                                <input type=\"radio\" onclick=\"clickcr(this, \\'bsu*p.option11\\', \\'\\', \\'\\', event);\" class=\"input_radio\" name=\"theme\" id=\"theme11\" data-directoryseq=\"15\">\\n                                <label for=\"theme11\" class=\"label\">\\xec\\x9c\\xa1\\xec\\x95\\x84\\xc2\\xb7\\xea\\xb2\\xb0\\xed\\x98\\xbc</label>\\n                            </li>\\n\\n                            <li class=\"item\">\\n                                <input type=\"radio\" onclick=\"clickcr(this, \\'bsu*p.option12\\', \\'\\', \\'\\', event);\" class=\"input_radio\" name=\"theme\" id=\"theme12\" data-directoryseq=\"16\">\\n                                <label for=\"theme12\" class=\"label\">\\xec\\x95\\xa0\\xec\\x99\\x84\\xc2\\xb7\\xeb\\xb0\\x98\\xeb\\xa0\\xa4\\xeb\\x8f\\x99\\xeb\\xac\\xbc</label>\\n                            </li>\\n\\n                            <li class=\"item\">\\n                                <input type=\"radio\" onclick=\"clickcr(this, \\'bsu*p.option13\\', \\'\\', \\'\\', event);\" class=\"input_radio\" name=\"theme\" id=\"theme13\" data-directoryseq=\"17\">\\n                                <label for=\"theme13\" class=\"label\">\\xec\\xa2\\x8b\\xec\\x9d\\x80\\xea\\xb8\\x80\\xc2\\xb7\\xec\\x9d\\xb4\\xeb\\xaf\\xb8\\xec\\xa7\\x80</label>\\n                            </li>\\n\\n                            <li class=\"item\">\\n                                <input type=\"radio\" onclick=\"clickcr(this, \\'bsu*p.option14\\', \\'\\', \\'\\', event);\" class=\"input_radio\" name=\"theme\" id=\"theme14\" data-directoryseq=\"18\">\\n                                <label for=\"theme14\" class=\"label\">\\xed\\x8c\\xa8\\xec\\x85\\x98\\xc2\\xb7\\xeb\\xaf\\xb8\\xec\\x9a\\xa9</label>\\n                            </li>\\n\\n                            <li class=\"item\">\\n                                <input type=\"radio\" onclick=\"clickcr(this, \\'bsu*p.option15\\', \\'\\', \\'\\', event);\" class=\"input_radio\" name=\"theme\" id=\"theme15\" data-directoryseq=\"19\">\\n                                <label for=\"theme15\" class=\"label\">\\xec\\x9d\\xb8\\xed\\x85\\x8c\\xeb\\xa6\\xac\\xec\\x96\\xb4\\xc2\\xb7DIY</label>\\n                            </li>\\n\\n                            <li class=\"item\">\\n                                <input type=\"radio\" onclick=\"clickcr(this, \\'bsu*p.option16\\', \\'\\', \\'\\', event);\" class=\"input_radio\" name=\"theme\" id=\"theme16\" data-directoryseq=\"20\">\\n                                <label for=\"theme16\" class=\"label\">\\xec\\x9a\\x94\\xeb\\xa6\\xac\\xc2\\xb7\\xeb\\xa0\\x88\\xec\\x8b\\x9c\\xed\\x94\\xbc</label>\\n                            </li>\\n\\n                            <li class=\"item\">\\n                                <input type=\"radio\" onclick=\"clickcr(this, \\'bsu*p.option17\\', \\'\\', \\'\\', event);\" class=\"input_radio\" name=\"theme\" id=\"theme17\" data-directoryseq=\"21\">\\n                                <label for=\"theme17\" class=\"label\">\\xec\\x83\\x81\\xed\\x92\\x88\\xeb\\xa6\\xac\\xeb\\xb7\\xb0</label>\\n                            </li>\\n\\n                            <li class=\"item\">\\n                                <input type=\"radio\" onclick=\"clickcr(this, \\'bsu*p.option18\\', \\'\\', \\'\\', event);\" class=\"input_radio\" name=\"theme\" id=\"theme18\" data-directoryseq=\"36\">\\n                                <label for=\"theme18\" class=\"label\">\\xec\\x9b\\x90\\xec\\x98\\x88\\xc2\\xb7\\xec\\x9e\\xac\\xeb\\xb0\\xb0</label>\\n                            </li>\\n                        </ul>\\n                        <strong class=\"title\">\\xec\\xb7\\xa8\\xeb\\xaf\\xb8\\xc2\\xb7\\xec\\x97\\xac\\xea\\xb0\\x80\\xc2\\xb7\\xec\\x97\\xac\\xed\\x96\\x89</strong>\\n                        <ul class=\"list\">\\n                            <li class=\"item\">\\n                                <input type=\"radio\" onclick=\"clickcr(this, \\'bsu*p.option19\\', \\'\\', \\'\\', event);\" onclick=\"clickcr(this, \\'bsu*p.option1\\', \\'\\', \\'\\', event);\" class=\"input_radio\" name=\"theme\" id=\"theme19\" data-directoryseq=\"22\">\\n                                <label for=\"theme19\" class=\"label\">\\xea\\xb2\\x8c\\xec\\x9e\\x84</label>\\n                            </li>\\n\\n                            <li class=\"item\">\\n                                <input type=\"radio\" onclick=\"clickcr(this, \\'bsu*p.option20\\', \\'\\', \\'\\', event);\" class=\"input_radio\" name=\"theme\" id=\"theme20\" data-directoryseq=\"23\">\\n                                <label for=\"theme20\" class=\"label\">\\xec\\x8a\\xa4\\xed\\x8f\\xac\\xec\\xb8\\xa0</label>\\n                            </li>\\n\\n                            <li class=\"item\">\\n                                <input type=\"radio\" onclick=\"clickcr(this, \\'bsu*p.option21\\', \\'\\', \\'\\', event);\" class=\"input_radio\" name=\"theme\" id=\"theme21\" data-directoryseq=\"24\">\\n                                <label for=\"theme21\" class=\"label\">\\xec\\x82\\xac\\xec\\xa7\\x84</label>\\n                            </li>\\n\\n                            <li class=\"item\">\\n                                <input type=\"radio\" onclick=\"clickcr(this, \\'bsu*p.option22\\', \\'\\', \\'\\', event);\" class=\"input_radio\" name=\"theme\" id=\"theme22\" data-directoryseq=\"25\">\\n                                <label for=\"theme22\" class=\"label\">\\xec\\x9e\\x90\\xeb\\x8f\\x99\\xec\\xb0\\xa8</label>\\n                            </li>\\n\\n                            <li class=\"item\">\\n                                <input type=\"radio\" onclick=\"clickcr(this, \\'bsu*p.option23\\', \\'\\', \\'\\', event);\" class=\"input_radio\" name=\"theme\" id=\"theme23\" data-directoryseq=\"26\">\\n                                <label for=\"theme23\" class=\"label\">\\xec\\xb7\\xa8\\xeb\\xaf\\xb8</label>\\n                            </li>\\n\\n                            <li class=\"item\">\\n                                <input type=\"radio\" onclick=\"clickcr(this, \\'bsu*p.option24\\', \\'\\', \\'\\', event);\" class=\"input_radio\" name=\"theme\" id=\"theme24\" data-directoryseq=\"27\">\\n                                <label for=\"theme24\" class=\"label\">\\xea\\xb5\\xad\\xeb\\x82\\xb4\\xec\\x97\\xac\\xed\\x96\\x89</label>\\n                            </li>\\n\\n                            <li class=\"item\">\\n                                <input type=\"radio\" onclick=\"clickcr(this, \\'bsu*p.option25\\', \\'\\', \\'\\', event);\" class=\"input_radio\" name=\"theme\" id=\"theme25\" data-directoryseq=\"28\">\\n                                <label for=\"theme25\" class=\"label\">\\xec\\x84\\xb8\\xea\\xb3\\x84\\xec\\x97\\xac\\xed\\x96\\x89</label>\\n                            </li>\\n\\n                            <li class=\"item\">\\n                                <input type=\"radio\" onclick=\"clickcr(this, \\'bsu*p.option26\\', \\'\\', \\'\\', event);\" class=\"input_radio\" name=\"theme\" id=\"theme26\" data-directoryseq=\"29\">\\n                                <label for=\"theme26\" class=\"label\">\\xeb\\xa7\\x9b\\xec\\xa7\\x91</label>\\n                            </li>\\n                        </ul>\\n                        <strong class=\"title\">\\xec\\xa7\\x80\\xec\\x8b\\x9d\\xc2\\xb7\\xeb\\x8f\\x99\\xed\\x96\\xa5</strong>\\n                        <ul class=\"list\">\\n                            <li class=\"item\">\\n                                <input type=\"radio\" onclick=\"clickcr(this, \\'bsu*p.option27\\', \\'\\', \\'\\', event);\" class=\"input_radio\" name=\"theme\" id=\"theme27\" data-directoryseq=\"30\">\\n                                <label for=\"theme27\" class=\"label\">IT\\xc2\\xb7\\xec\\xbb\\xb4\\xed\\x93\\xa8\\xed\\x84\\xb0</label>\\n                            </li>\\n\\n                            <li class=\"item\">\\n                                <input type=\"radio\" onclick=\"clickcr(this, \\'bsu*p.option28\\', \\'\\', \\'\\', event);\" class=\"input_radio\" name=\"theme\" id=\"theme28\" data-directoryseq=\"31\">\\n                                <label for=\"theme28\" class=\"label\">\\xec\\x82\\xac\\xed\\x9a\\x8c\\xc2\\xb7\\xec\\xa0\\x95\\xec\\xb9\\x98</label>\\n                            </li>\\n\\n                            <li class=\"item\">\\n                                <input type=\"radio\" onclick=\"clickcr(this, \\'bsu*p.option29\\', \\'\\', \\'\\', event);\" class=\"input_radio\" name=\"theme\" id=\"theme29\" data-directoryseq=\"32\">\\n                                <label for=\"theme29\" class=\"label\">\\xea\\xb1\\xb4\\xea\\xb0\\x95\\xc2\\xb7\\xec\\x9d\\x98\\xed\\x95\\x99</label>\\n                            </li>\\n\\n                            <li class=\"item\">\\n                                <input type=\"radio\" onclick=\"clickcr(this, \\'bsu*p.option30\\', \\'\\', \\'\\', event);\" class=\"input_radio\" name=\"theme\" id=\"theme30\" data-directoryseq=\"33\">\\n                                <label for=\"theme30\" class=\"label\">\\xeb\\xb9\\x84\\xec\\xa6\\x88\\xeb\\x8b\\x88\\xec\\x8a\\xa4\\xc2\\xb7\\xea\\xb2\\xbd\\xec\\xa0\\x9c</label>\\n                            </li>\\n\\n                            <li class=\"item\">\\n                                <input type=\"radio\" onclick=\"clickcr(this, \\'bsu*p.option31\\', \\'\\', \\'\\', event);\" class=\"input_radio\" name=\"theme\" id=\"theme31\" data-directoryseq=\"35\">\\n                                <label for=\"theme31\" class=\"label\">\\xec\\x96\\xb4\\xed\\x95\\x99\\xc2\\xb7\\xec\\x99\\xb8\\xea\\xb5\\xad\\xec\\x96\\xb4</label>\\n                            </li>\\n\\n                            <li class=\"item\">\\n                                <input type=\"radio\" onclick=\"clickcr(this, \\'bsu*p.option32\\', \\'\\', \\'\\', event);\" class=\"input_radio\" name=\"theme\" id=\"theme32\" data-directoryseq=\"34\">\\n                                <label for=\"theme32\" class=\"label\">\\xea\\xb5\\x90\\xec\\x9c\\xa1\\xc2\\xb7\\xed\\x95\\x99\\xeb\\xac\\xb8</label>\\n                            </li>\\n                        </ul>\\n                        <strong class=\"title\">\\xec\\xa3\\xbc\\xec\\xa0\\x9c\\xec\\x97\\x86\\xec\\x9d\\x8c</strong>\\n                        <ul class=\"list\">\\n                            <li class=\"item\">\\n                                <input type=\"radio\" onclick=\"clickcr(this, \\'bsu*p.option33\\', \\'\\', \\'\\', event);\" class=\"input_radio\" name=\"theme\" id=\"theme33\" data-directoryseq=\"0\">\\n                                <label for=\"theme33\" class=\"label\">\\xec\\xa3\\xbc\\xec\\xa0\\x9c \\xec\\x84\\xa0\\xed\\x83\\x9d \\xeb\\xb3\\xb4\\xeb\\xa5\\x98</label>\\n                            </li>\\n                        </ul>\\n                    </div>\\n                </div>\\n            </div>\\n            <div class=\"btn_area\">\\n                <button id=\"closeBlogBasicInfoLayer\" onclick=\"clickcr(this, \\'bsu*p.later\\', \\'\\', \\'\\', event);\"  type=\"button\" class=\"cancel_btn\">\\n                    \\xeb\\x82\\x98\\xec\\xa4\\x91\\xec\\x97\\x90 \\xed\\x95\\xa0\\xea\\xb2\\x8c\\xec\\x9a\\x94\\n                </button>\\n                <input id=\"submitBlogBasicInfo\" onClick=\"clickcr(this, \\'bsu*p.next\\', \\'\\', \\'\\', event); return false;\" type=\"submit\" value=\"\\xeb\\x8b\\xa4\\xec\\x9d\\x8c\" class=\"submit_btn\" />\\n            </div>\\n            <div class=\"pagination_area\">\\n                <i class=\"item is_active\">\\xea\\xb8\\xb0\\xeb\\xb3\\xb8\\xec\\xa0\\x95\\xeb\\xb3\\xb4 \\xec\\x9e\\x85\\xeb\\xa0\\xa5</i>\\n                <i class=\"item\">\\xea\\xb4\\x80\\xec\\x8b\\xac\\xeb\\xb6\\x84\\xec\\x95\\xbc \\xec\\x84\\xa0\\xed\\x83\\x9d</i>\\n                <i class=\"item\">\\xec\\x9d\\xb4\\xec\\x9b\\x83 \\xeb\\xa7\\xba\\xea\\xb8\\xb0</i>\\n            </div>\\n            <div class=\"back_btn_area\">\\n                <button id=\"blogBasicInfoBackBtn\" onclick=\"clickcr(this, \\'bsu*p.previous\\', \\'\\', \\'\\', event);\" type=\"button\" class=\"back_btn\">\\xeb\\x92\\xa4\\xeb\\xa1\\x9c\\xea\\xb0\\x80\\xea\\xb8\\xb0 \\xeb\\xb2\\x84\\xed\\x8a\\xbc</button>\\n            </div>\\n        </div>\\n    </div>\\n\\n    <div id=\"personalThemeLayer\" class=\"SetBlogId_layer_wrap InputBlogId_layer_wrap\" style=\"display:none\">\\n        <div class=\"BlogId_content\">\\n            <h1 class=\"title_h1\">\\xea\\xb4\\x80\\xec\\x8b\\xac\\xeb\\xb6\\x84\\xec\\x95\\xbc\\xeb\\xa5\\xbc \\xec\\x84\\xa0\\xed\\x83\\x9d\\xed\\x95\\xb4\\xec\\xa3\\xbc\\xec\\x84\\xb8\\xec\\x9a\\x94.</h1>\\n            <p class=\"title_desc\">\\xec\\x84\\xa0\\xed\\x83\\x9d\\xed\\x95\\x9c \\xeb\\xb6\\x84\\xec\\x95\\xbc\\xec\\x9d\\x98 \\xea\\xb8\\x80\\xea\\xb3\\xbc \\xec\\x9d\\xb4\\xec\\x9b\\x83\\xec\\x9d\\x84 \\xec\\xb6\\x94\\xec\\xb2\\x9c\\xeb\\xb0\\x9b\\xec\\x9d\\x84 \\xec\\x88\\x98 \\xec\\x9e\\x88\\xec\\x96\\xb4\\xec\\x9a\\x94.</p>\\n            <div class=\"recommendation_list\">\\n                <ul id=\"personalThemeList\" class=\"list\">\\n\\n                </ul>\\n            </div>\\n            <div class=\"btn_area\">\\n                <button id=\"personalThemeSelectCancel\" onClick=\"clickcr(this, \\'bsu*t.ccl\\', \\'\\', \\'\\', event);\" type=\"button\" class=\"cancel_btn\">\\n                    \\xeb\\x82\\x98\\xec\\xa4\\x91\\xec\\x97\\x90 \\xed\\x95\\xa0\\xea\\xb2\\x8c\\xec\\x9a\\x94\\n                </button>\\n                <!-- \\xec\\x82\\xac\\xec\\x9a\\xa9\\xed\\x95\\xa0 \\xec\\x88\\x98 \\xec\\x9e\\x88\\xeb\\x8a\\x94 \\xec\\x95\\x84\\xec\\x9d\\xb4\\xeb\\x94\\x94 \\xec\\x9e\\x85\\xeb\\xa0\\xa5\\xec\\x8b\\x9c disabled \\xec\\x82\\xad\\xec\\xa0\\x9c -->\\n                <input id=\"personalThemeSubmitBtn\" onclick=\"clickcr(this, \\'bsu*t.next\\', \\'\\', \\'\\', event); return false;\" type=\"submit\" value=\"\\xeb\\x8b\\xa4\\xec\\x9d\\x8c\" class=\"submit_btn\" />\\n            </div>\\n            <div class=\"pagination_area\">\\n                <i class=\"item\">\\xea\\xb8\\xb0\\xeb\\xb3\\xb8\\xec\\xa0\\x95\\xeb\\xb3\\xb4 \\xec\\x9e\\x85\\xeb\\xa0\\xa5</i>\\n                <i class=\"item is_active\">\\xea\\xb4\\x80\\xec\\x8b\\xac\\xeb\\xb6\\x84\\xec\\x95\\xbc \\xec\\x84\\xa0\\xed\\x83\\x9d</i>\\n                <i class=\"item\">\\xec\\x9d\\xb4\\xec\\x9b\\x83 \\xeb\\xa7\\xba\\xea\\xb8\\xb0</i>\\n            </div>\\n            <div class=\"back_btn_area\">\\n                <button id=\"personalThemeBackBtn\" onclick=\"clickcr(this, \\'bsu*t.previous\\', \\'\\', \\'\\', event);\" type=\"button\" class=\"back_btn\">\\xeb\\x92\\xa4\\xeb\\xa1\\x9c\\xea\\xb0\\x80\\xea\\xb8\\xb0 \\xeb\\xb2\\x84\\xed\\x8a\\xbc</button>\\n            </div>\\n        </div>\\n    </div>\\n\\n    <div id=\"recommendBlogLayer\" class=\"SetBlogId_layer_wrap InputBlogId_layer_wrap\" style=\"display:none;\">\\n        <div class=\"BlogId_content\">\\n            <h1 class=\"title_h1\">\\xec\\x9d\\xb8\\xea\\xb8\\xb0\\xeb\\xb8\\x94\\xeb\\xa1\\x9c\\xea\\xb1\\xb0\\xec\\x99\\x80 \\xec\\x9d\\xb4\\xec\\x9b\\x83\\xec\\x9d\\x84 \\xeb\\xa7\\xba\\xec\\x9c\\xbc\\xec\\x84\\xb8\\xec\\x9a\\x94.</h1>\\n            <p class=\"title_desc\">\\xec\\x9d\\xb4\\xec\\x9b\\x83\\xec\\x9d\\x84 \\xeb\\xa7\\xba\\xec\\x9c\\xbc\\xeb\\xa9\\xb4 \\xec\\x9d\\xb4\\xec\\x9b\\x83\\xec\\x83\\x88\\xea\\xb8\\x80\\xec\\x97\\x90\\xec\\x84\\x9c \\xea\\xb8\\x80\\xec\\x9d\\x84 \\xeb\\xb0\\x9b\\xec\\x95\\x84\\xeb\\xb3\\xbc \\xec\\x88\\x98 \\xec\\x9e\\x88\\xec\\x96\\xb4\\xec\\x9a\\x94.</p>\\n            <div class=\"bloger_list\">\\n                <ul id=\"recommendBlogList\" class=\"list\">\\n\\n                </ul>\\n                <div class=\"loading_wrap\" id=\"recommendBlogList_loading_wrap\">\\n                    <div class=\"colordot_loading\">\\n                        <i class=\"dot dot1\"></i>\\n                        <i class=\"dot dot2\"></i>\\n                        <i class=\"dot dot3\"></i>\\n                        <i class=\"dot dot4\"></i>\\n                        <i class=\"dot dot5\"></i>\\n                        <i class=\"dot dot6\"></i>\\n                    </div>\\n                </div>\\n            </div>\\n            <div class=\"btn_area\">\\n                <button id=\"startBlogBtn\" onclick=\"clickcr(this, \\'bsu*r.start\\', \\'\\', \\'\\', event);\" type=\"button\" class=\"start_blog_btn\">\\n                    \\xeb\\xb8\\x94\\xeb\\xa1\\x9c\\xea\\xb7\\xb8 \\xec\\x8b\\x9c\\xec\\x9e\\x91\\xed\\x95\\x98\\xea\\xb8\\xb0\\n                </button>\\n            </div>\\n            <div class=\"pagination_area\">\\n                <i class=\"item\">\\xea\\xb8\\xb0\\xeb\\xb3\\xb8\\xec\\xa0\\x95\\xeb\\xb3\\xb4 \\xec\\x9e\\x85\\xeb\\xa0\\xa5</i>\\n                <i class=\"item\">\\xea\\xb4\\x80\\xec\\x8b\\xac\\xeb\\xb6\\x84\\xec\\x95\\xbc \\xec\\x84\\xa0\\xed\\x83\\x9d</i>\\n                <i class=\"item is_active\">\\xec\\x9d\\xb4\\xec\\x9b\\x83 \\xeb\\xa7\\xba\\xea\\xb8\\xb0</i>\\n            </div>\\n            <div class=\"back_btn_area\">\\n                <button id=\"recommendBackBtn\" onclick=\"clickcr(this, \\'bsu*r.previous\\', \\'\\', \\'\\', event);\" type=\"button\" class=\"back_btn\">\\xeb\\x92\\xa4\\xeb\\xa1\\x9c\\xea\\xb0\\x80\\xea\\xb8\\xb0 \\xeb\\xb2\\x84\\xed\\x8a\\xbc</button>\\n            </div>\\n            </fieldset>\\n            </form>\\n        </div>\\n    </div>\\n\\n\\n    <div class=\"SetBlogId_layer_wrap\" style=\"display:none;\" id=\"alertLayer\">\\n        <div class=\"ui_alert_content\">\\n            <div class=\"text_area\">\\n                <p class=\"desc\" id=\"alertMessage\"></p>\\n            </div>\\n            <div class=\"btn_area\">\\n                <button type=\"button\" class=\"btn\" id=\"closeAlertLayer\">\\xed\\x99\\x95\\xec\\x9d\\xb8</button>\\n            </div>\\n        </div>\\n    </div>\\n\\n    <div class=\"SetBlogId_layer_wrap\" style=\"display:none;\" id=\"alertLayeCallBack\">\\n        <div class=\"ui_alert_content\">\\n            <div class=\"text_area\">\\n                <p class=\"desc\" id=\"alertMessageCallBack\"></p>\\n            </div>\\n            <div class=\"btn_area\">\\n                <button type=\"button\" class=\"btn\" id=\"closeAlertLayerCallBack\">\\xed\\x99\\x95\\xec\\x9d\\xb8</button>\\n            </div>\\n        </div>\\n    </div>\\n</template>\\n\\n<template id=\"blogDomainRegisterPopularBlogTemplate\" style=\"display: none\">\\n    <li class=\"item\">\\n        <div class=\"bloger_item\">\\n            <div class=\"bloger\">\\n                <div class=\"profile_img\">\\n                    <img data-src=\"profileImage\" width=\"56\" height=\"56\" class=\"img\" alt=\"\\xed\\x94\\x84\\xeb\\xa1\\x9c\\xed\\x95\\x84\" />\\n                </div>\\n                <div class=\"profile_text\">\\n                    <strong data-content=\"nickName\" class=\"nickname\"></strong>\\n                    <span data-content=\"blogName\" class=\"blogname\"></span>\\n                    <span data-content=\"themeName\" class=\"category\"></span>\\n                </div>\\n            </div>\\n            <div class=\"post_list_wrap\">\\n                <ul data-innerHTML=\"postList\" class=\"list\">\\n                </ul>\\n            </div>\\n            <button type=\"button\" class=\"add_buddy_btn _recommendBuddyAdd\" data-template-bind=\\'[{\"attribute\": \"style\", \"value\": \"buddyAddDisplayStyle\"}, {\"attribute\": \"data-domainIdOrBlogId\", \"value\": \"domainIdOrBlogId\"}]\\'>\\xec\\x9d\\xb4\\xec\\x9b\\x83\\xec\\xb6\\x94\\xea\\xb0\\x80</button>\\n            <button class=\"buddy _recommendBuddyRemove\" data-template-bind=\\'[{\"attribute\": \"style\", \"value\": \"buddyDisplayStyle\"}, {\"attribute\": \"data-domainIdOrBlogId\", \"value\": \"domainIdOrBlogId\"}]\\'>\\xec\\x9d\\xb4\\xec\\x9b\\x83</button>\\n        </div>\\n    </li>\\n</template>\\n\\n<template id=\"blogDomainRegisterPopularBlogPostTemplate\" style=\"display: none\">\\n    <li class=\"item\">\\n        <div class=\"img_area\">\\n            <img data-src=\"mainThumbnailUrl\" class=\"img\" alt=\"\\xec\\x84\\xac\\xeb\\x84\\xa4\\xec\\x9d\\xbc\" />\\n        </div>\\n        <div class=\"text_area\">\\n            <strong data-content=\"title\" class=\"title\"></strong>\\n            <p class=\"desc\" data-content=\"briefContents\"></p>\\n        </div>\\n    </li>\\n</template>\\n\\n<template id=\"personalThemeTemplate\" style=\"display: none\">\\n    <li class=\"item\">\\n        <div class=\"recommend_item\">\\n            <input type=\"checkbox\" class=\"inputbox\" data-template-bind=\\'[{\"attribute\": \"id\", \"value\": \"id\"}]\\'>\\n            <label data-template-bind=\\'[\\n                {\"attribute\": \"for\", \"value\": \"id\"},\\n                {\"attribute\": \"data-directorySeq\", \"value\": \"directorySeq\"},\\n                {\"attribute\": \"data-clickCode\", \"value\": \"clickCode\"}]\\' data-content=\"themeName\" class=\"label\"></label>\\n        </div>\\n    </li>\\n</template>\\n<body bg-body-click>\\n<ui-view autoscroll=\"true\"></ui-view>\\n</body>\\n<script>\\n\\n    if(userAgentUtil.isNotSupportBrowser()){\\n        alert(\\'IE8 \\xec\\x9d\\xb4\\xed\\x95\\x98 \\xeb\\xb8\\x8c\\xeb\\x9d\\xbc\\xec\\x9a\\xb0\\xec\\xa0\\x80\\xec\\x97\\x90\\xec\\x84\\x9c\\xeb\\x8a\\x94 \"\\xec\\x8b\\xa0\\xea\\xb7\\x9c\\xeb\\xb2\\x84\\xec\\xa0\\x84 \\xeb\\xb3\\xb4\\xea\\xb8\\xb0\"\\xeb\\xa5\\xbc \\xec\\xa0\\x9c\\xea\\xb3\\xb5\\xed\\x95\\x98\\xec\\xa7\\x80 \\xec\\x95\\x8a\\xec\\x8a\\xb5\\xeb\\x8b\\x88\\xeb\\x8b\\xa4.\\\\n\\xeb\\xb8\\x8c\\xeb\\x9d\\xbc\\xec\\x9a\\xb0\\xec\\xa0\\x80 \\xec\\x97\\x85\\xeb\\x8d\\xb0\\xec\\x9d\\xb4\\xed\\x8a\\xb8\\xeb\\xa5\\xbc \\xeb\\xb6\\x80\\xed\\x83\\x81\\xeb\\x93\\x9c\\xeb\\xa6\\xbd\\xeb\\x8b\\x88\\xeb\\x8b\\xa4.\\');\\n        location.href = \\'/SectionMain.nhn\\';\\n    }else{\\n        angular.element(document).ready(function() {\\n            angular.bootstrap(document, [\\'bgApp\\'], {\\n                strictDi: true\\n            });\\n        });\\n    }\\n\\n</script>\\n<script type=\"text/javascript\" src=\"https://notice.naver.com/static/js/iframeListener.js\"></script>\\n<script type=\"text/javascript\" charset=\"utf-8\" src=\"https://ssl.pstatic.net/tveta/libs/ssp/ssp.web.sdk.js\"></script>\\n</html>\\n'\n"
     ]
    }
   ],
   "source": [
    "from urllib.request import Request, urlopen\n",
    "\n",
    "x = Request('https://blog.naver.com/')\n",
    "with urlopen(x) as response:\n",
    "    res_text = response.read()\n",
    "    print(res_text)"
   ]
  },
  {
   "cell_type": "markdown",
   "id": "55795a87",
   "metadata": {},
   "source": [
    "## 3. requests\n",
    "- 데이터를 전송할 때 딕셔너리 형태로 전송\n",
    "- 존재하지 않는 페이지를 요청해도 에러를 출력하지 않음\n",
    "- URL에 쿼리 문자열을 수동으로 추가하거나 POST 데이터를 형식 인코딩할 필요가 없어 urllib.request보다 사용하기 쉬움\n",
    "- GET/POST 여부에 관계없이 매개변수를 다시 인코딩할 필요가 없으며 dictionary을 인수로 사용하기만 하면 됌"
   ]
  },
  {
   "cell_type": "code",
   "execution_count": 47,
   "id": "977d8f2f",
   "metadata": {},
   "outputs": [
    {
     "name": "stdout",
     "output_type": "stream",
     "text": [
      "200\n"
     ]
    }
   ],
   "source": [
    "import requests\n",
    "\n",
    "response = requests.get('https://blog.naver.com/') # x 객체 생성 requests모듈의 get메서드로 URL을 받음\n",
    "print(response.status_code) # 상태코드 호출, URL을 잘 받았다면 200 출력"
   ]
  },
  {
   "cell_type": "markdown",
   "id": "79e94c0e",
   "metadata": {},
   "source": [
    "## 4. xml.etree.ElementTree\n",
    "- xml을 처리하는 라이브러리\n",
    "- xml형식의 파일을 파이썬으로 불러와서 파싱 및 데이터 처리하는데 사용\n",
    "\n",
    "1. `import xml.etree.ElementTree as ET`\n",
    "2. `doc = ET.parse('xml_test.xml')`   \n",
    ": 데이터 파싱\n",
    "3. `root = doc.getroot()`   \n",
    ": 최상단 루트 태그\n",
    "\n",
    "- **tag**: 해당 태그의 이름\n",
    "- **text**: 해당 태그의 값\n",
    "- **attrib**: 해당 노드의 attribute 맵 (key, value)\n",
    "\n",
    "4. `country_tag = root.find(\"country\")`   \n",
    ": root 하위에 \"country\"와 일치하는 첫번째 태그를 찾아서 리턴. 없으면 None\n",
    "5. `country_tags = root.findall(\"country\")`   \n",
    ": root 하위에 \"country\"와 일치하는 모든 태그를 리스트로 리턴\n",
    "6. `country_text = root.findtext(\"country\")`   \n",
    ": root 하위에 \"country\"와 일치하는 첫번째 태그를 찾아서 해당 태그의 text를 리턴\n",
    "7. `country_text = root.find(\"country\").text`   \n",
    ": findtext는 find().text와 동일\n",
    "\n",
    "- **위 find함수들은 root의 자식들인 country태그들에 대해서만 탐색이 가능**\n",
    "- **country의 자식들에 대해서는 root.find()로 탐색이 불가**\n",
    "- **즉, 직전 자식들에 대해서만 탐색이 가능**\n",
    "- **모든 자식에 대해 탐색하고싶다면, iter 함수 사용**\n",
    "\n",
    "8. `for neighbor in root.iter(\"neighbor\"): print neighbor.attrib`   \n",
    ": root 태그에서도 iter(\"neighbor\")만 모두 순회가 가능\n",
    "9. `for child in root.iter(): print child.tag`   \n",
    ": root 이하 모든 자식의 태그명을 프린트\n",
    "10. `for country in root.iter(\"country\"): print country.tag`   \n",
    ": root 이하 country 태그들에 대해 태그명을 프린트"
   ]
  },
  {
   "cell_type": "markdown",
   "id": "cea76246",
   "metadata": {},
   "source": [
    "## Code"
   ]
  },
  {
   "cell_type": "code",
   "execution_count": 76,
   "id": "5191becc",
   "metadata": {},
   "outputs": [],
   "source": [
    "from urllib.parse import urlencode, quote_plus, unquote\n",
    "from urllib.request import Request, urlopen\n",
    "import xml.etree.ElementTree as ET\n",
    "import sys\n",
    "\n",
    "def Bus_ID(busRouteId):\n",
    "    #API URL & Key\n",
    "    Bus_url = 'http://ws.bus.go.kr/api/rest/busRouteInfo/getStaionByRoute'\n",
    "    ServiceKey = unquote('zkHbK1ll17jg5JC3zT%2BfNgvWlXZLPsxXdnF0%2Broo8q41CczIcbONJ%2FQeh7iFZ%2FjxLtM%2Fxj87o%2F6XZTK6oFoVrA%3D%3D')\n",
    "\n",
    "    #Parameters\n",
    "    params = {}\n",
    "    params['ServiceKey'] = ServiceKey\n",
    "    params['busRouteId'] = busRouteId\n",
    "    \n",
    "    #Request\n",
    "    queryParams = '?' + urlencode(params)\n",
    "    request = Request(Bus_url + queryParams)\n",
    "    #request.get_method = lambda: 'GET'\n",
    "\n",
    "    #Parsing\n",
    "    with urlopen(request) as response:\n",
    "        res_xml = ET.parse(response)\n",
    "\n",
    "    f = open('x.xml', 'w')\n",
    "    f.write(res_xml)\n",
    "    f.close()\n",
    "    #Select text and make list\n",
    "    root = res_xml.getroot()\n",
    "    msgBody = root.find(\"msgBody\")\n",
    "    gpsList = list()\n",
    "    \n",
    "    for itemList in msgBody.findall(\"itemList\"):\n",
    "        gpsX = itemList.find(\"gpsX\").text\n",
    "        gpsY = itemList.find(\"gpsY\").text\n",
    "        gps  = [gpsX, gpsY]\n",
    "        gpsList.append(gps)\n",
    "    \n",
    "    return gpsList"
   ]
  },
  {
   "cell_type": "code",
   "execution_count": 77,
   "id": "25fa539b",
   "metadata": {
    "scrolled": true
   },
   "outputs": [
    {
     "ename": "TypeError",
     "evalue": "write() argument must be str, not ElementTree",
     "output_type": "error",
     "traceback": [
      "\u001b[0;31m---------------------------------------------------------------------------\u001b[0m",
      "\u001b[0;31mTypeError\u001b[0m                                 Traceback (most recent call last)",
      "Input \u001b[0;32mIn [77]\u001b[0m, in \u001b[0;36m<cell line: 1>\u001b[0;34m()\u001b[0m\n\u001b[0;32m----> 1\u001b[0m \u001b[43mBus_ID\u001b[49m\u001b[43m(\u001b[49m\u001b[38;5;241;43m100100081\u001b[39;49m\u001b[43m)\u001b[49m\n",
      "Input \u001b[0;32mIn [76]\u001b[0m, in \u001b[0;36mBus_ID\u001b[0;34m(busRouteId)\u001b[0m\n\u001b[1;32m     23\u001b[0m     res_xml \u001b[38;5;241m=\u001b[39m ET\u001b[38;5;241m.\u001b[39mparse(response)\n\u001b[1;32m     25\u001b[0m f \u001b[38;5;241m=\u001b[39m \u001b[38;5;28mopen\u001b[39m(\u001b[38;5;124m'\u001b[39m\u001b[38;5;124mx.xml\u001b[39m\u001b[38;5;124m'\u001b[39m, \u001b[38;5;124m'\u001b[39m\u001b[38;5;124mw\u001b[39m\u001b[38;5;124m'\u001b[39m)\n\u001b[0;32m---> 26\u001b[0m \u001b[43mf\u001b[49m\u001b[38;5;241;43m.\u001b[39;49m\u001b[43mwrite\u001b[49m\u001b[43m(\u001b[49m\u001b[43mres_xml\u001b[49m\u001b[43m)\u001b[49m\n\u001b[1;32m     27\u001b[0m f\u001b[38;5;241m.\u001b[39mclose()\n\u001b[1;32m     28\u001b[0m \u001b[38;5;66;03m#Select text and make list\u001b[39;00m\n",
      "\u001b[0;31mTypeError\u001b[0m: write() argument must be str, not ElementTree"
     ]
    }
   ],
   "source": [
    "Bus_ID(100100081)"
   ]
  },
  {
   "cell_type": "code",
   "execution_count": null,
   "id": "8e382fbf",
   "metadata": {},
   "outputs": [],
   "source": []
  }
 ],
 "metadata": {
  "kernelspec": {
   "display_name": "Python 3 (ipykernel)",
   "language": "python",
   "name": "python3"
  },
  "language_info": {
   "codemirror_mode": {
    "name": "ipython",
    "version": 3
   },
   "file_extension": ".py",
   "mimetype": "text/x-python",
   "name": "python",
   "nbconvert_exporter": "python",
   "pygments_lexer": "ipython3",
   "version": "3.9.12"
  }
 },
 "nbformat": 4,
 "nbformat_minor": 5
}
