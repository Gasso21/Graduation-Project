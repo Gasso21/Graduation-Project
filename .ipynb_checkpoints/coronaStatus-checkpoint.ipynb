{
 "cells": [
  {
   "cell_type": "markdown",
   "id": "822b008c",
   "metadata": {},
   "source": [
    "# CoronaStatus Crawling"
   ]
  },
  {
   "cell_type": "markdown",
   "id": "e5873890",
   "metadata": {},
   "source": [
    "## Code"
   ]
  },
  {
   "cell_type": "code",
   "execution_count": 181,
   "id": "f86abd77",
   "metadata": {
    "scrolled": true
   },
   "outputs": [
    {
     "name": "stdout",
     "output_type": "stream",
     "text": [
      "           강남구      강동구      강북구      강서구      관악구      광진구      구로구      금천구  \\\n",
      "Total  251,810  225,076  133,630  279,246  244,431  172,239  198,727  112,689   \n",
      "Today     +265     +199     +129     +340     +251     +165     +225     +107   \n",
      "\n",
      "           노원구      도봉구  ...      송파구      양천구     영등포구      용산구      은평구  \\\n",
      "Total  250,467  148,114  ...  321,867  214,009  200,021  102,482  221,968   \n",
      "Today     +238     +142  ...     +306     +219     +171     +103     +247   \n",
      "\n",
      "          종로구      중구      중랑구       기타          Update Time  \n",
      "Total  65,975  59,649  181,122  304,207  (2022.10.21.00시 기준)  \n",
      "Today     +67     +60     +181     +371                  NaN  \n",
      "\n",
      "[2 rows x 27 columns]\n"
     ]
    }
   ],
   "source": [
    "import pandas as pd\n",
    "import requests, bs4\n",
    "\n",
    "response = requests.get('https://www.seoul.go.kr/coronaV/coronaStatus.do')\n",
    "html_obj = bs4.BeautifulSoup(response.content, 'html.parser')\n",
    "\n",
    "ths = html_obj.select('table.tstyle-status.pc.pc-table > tbody > tr > th')\n",
    "tds = html_obj.select('table.tstyle-status.pc.pc-table > tbody > tr > td')\n",
    "place_time = html_obj.select(' div#wrap.sub > div#container > div.layout-inner.layout-sub > div.inner.inner7 > div#move-cont1.move-cont > p.update-date')\n",
    "\n",
    "name_list = []\n",
    "total_value = []\n",
    "today_value = []\n",
    "\n",
    "# 자치구 이름 저장\n",
    "for i in range(0, len(ths)):\n",
    "    columns = ths[i].text\n",
    "    name_list.append(columns)\n",
    "\n",
    "# 총 확진자수와 오늘 확진자수 각각 저장\n",
    "for i in range(0, len(tds)):\n",
    "    rows = tds[i].text\n",
    "    if (i//(len(ths)/2))%2 == 0:\n",
    "        total_value.append(rows)\n",
    "    else:\n",
    "        today_value.append(rows)\n",
    "\n",
    "# html값 DataFrame으로 만들기\n",
    "Crawling = pd.DataFrame([total_value,today_value], columns=name_list, index=['Total', 'Today'])\n",
    "\n",
    "# 열 추가(업데이트 시간)\n",
    "Crawling.loc['Total','Update Time'] = place_time[0].text\n",
    "\n",
    "print(Crawling)\n",
    "# DataFrame을 CSV 파일로 저장\n",
    "# Crawling.to_csv('Crawling.csv', encoding='utf-8-sig')"
   ]
  },
  {
   "cell_type": "code",
   "execution_count": 182,
   "id": "86af89da",
   "metadata": {},
   "outputs": [
    {
     "name": "stdout",
     "output_type": "stream",
     "text": [
      "           강남구      강동구      강북구      강서구      관악구      광진구      구로구      금천구  \\\n",
      "Total  251,810  225,076  133,630  279,246  244,431  172,239  198,727  112,689   \n",
      "Today     +265     +199     +129     +340     +251     +165     +225     +107   \n",
      "\n",
      "           노원구      도봉구  ...      송파구      양천구     영등포구      용산구      은평구  \\\n",
      "Total  250,467  148,114  ...  321,867  214,009  200,021  102,482  221,968   \n",
      "Today     +238     +142  ...     +306     +219     +171     +103     +247   \n",
      "\n",
      "          종로구      중구      중랑구       기타          Update Time  \n",
      "Total  65,975  59,649  181,122  304,207  (2022.10.21.00시 기준)  \n",
      "Today     +67     +60     +181     +371                  NaN  \n",
      "\n",
      "[2 rows x 27 columns]\n"
     ]
    }
   ],
   "source": [
    "import pandas as pd\n",
    "import requests, bs4\n",
    "\n",
    "response = requests.get('https://www.seoul.go.kr/coronaV/coronaStatus.do')\n",
    "html_obj = bs4.BeautifulSoup(response.content, 'html.parser')\n",
    "\n",
    "# 총 확진자 수와 오늘 확진자 수를 각각 추출\n",
    "ths = html_obj.select('table.tstyle-status.pc.pc-table > tbody > tr > th')\n",
    "tds_total = html_obj.select('table.tstyle-status.pc.pc-table > tbody > tr > td:not(.today)')\n",
    "tds_today = html_obj.select('table.tstyle-status.pc.pc-table > tbody > tr > td.today')\n",
    "place_time = html_obj.select(' div#wrap.sub > div#container > div.layout-inner.layout-sub > div.inner.inner7 > div#move-cont1.move-cont > p.update-date')\n",
    "\n",
    "# dictionary 형태로 저장\n",
    "data = {}    \n",
    "for i in range(len(ths)):\n",
    "    data[ths[i].text] = [tds_total[i].text, tds_today[i].text]\n",
    "\n",
    "# html값 DataFrame으로 만들기\n",
    "Crawling = pd.DataFrame(data, index=['Total', 'Today'])\n",
    "\n",
    "# 열 추가(업데이트 시간)\n",
    "Crawling.loc['Total','Update Time'] = place_time[0].text\n",
    "\n",
    "print(Crawling)"
   ]
  },
  {
   "cell_type": "markdown",
   "id": "afadc666",
   "metadata": {},
   "source": [
    "## Test"
   ]
  },
  {
   "cell_type": "code",
   "execution_count": 157,
   "id": "a71ddf46",
   "metadata": {},
   "outputs": [
    {
     "name": "stdout",
     "output_type": "stream",
     "text": [
      "65,975 +67 (2022.10.21.00시 기준)\n"
     ]
    }
   ],
   "source": [
    "import pandas as pd\n",
    "\n",
    "df = pd.read_csv('Crawling.csv')\n",
    "print(df['종로구'][0], df['종로구'][1], df['Update Time'][0])"
   ]
  }
 ],
 "metadata": {
  "kernelspec": {
   "display_name": "Python 3 (ipykernel)",
   "language": "python",
   "name": "python3"
  },
  "language_info": {
   "codemirror_mode": {
    "name": "ipython",
    "version": 3
   },
   "file_extension": ".py",
   "mimetype": "text/x-python",
   "name": "python",
   "nbconvert_exporter": "python",
   "pygments_lexer": "ipython3",
   "version": "3.9.12"
  }
 },
 "nbformat": 4,
 "nbformat_minor": 5
}
