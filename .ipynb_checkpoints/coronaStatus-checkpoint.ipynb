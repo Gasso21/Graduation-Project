{
 "cells": [
  {
   "cell_type": "markdown",
   "id": "0eca7a30",
   "metadata": {},
   "source": [
    "# CoronaStatus Crawling"
   ]
  },
  {
   "cell_type": "markdown",
   "id": "12b46031",
   "metadata": {},
   "source": [
    "## Code"
   ]
  },
  {
   "cell_type": "code",
   "execution_count": 156,
   "id": "7d546997",
   "metadata": {},
   "outputs": [],
   "source": [
    "import pandas as pd\n",
    "import requests, bs4\n",
    "\n",
    "response = requests.get('https://www.seoul.go.kr/coronaV/coronaStatus.do')\n",
    "html_obj = bs4.BeautifulSoup(response.content, 'html.parser')\n",
    "\n",
    "ths = html_obj.select('table.tstyle-status.pc.pc-table > tbody > tr > th')\n",
    "tds = html_obj.select('table.tstyle-status.pc.pc-table > tbody > tr > td')\n",
    "place_time = html_obj.select(' div#wrap.sub > div#container > div.layout-inner.layout-sub > div.inner.inner7 > div#move-cont1.move-cont > p.update-date')\n",
    "\n",
    "name_list = []\n",
    "total_value = []\n",
    "today_value = []\n",
    "\n",
    "for i in range(0, len(ths)):\n",
    "    #자치구 이름\n",
    "    columns = ths[i].text\n",
    "    #print(columns)\n",
    "    name_list.append(columns)\n",
    "    \n",
    "for i in range(0, len(tds)):\n",
    "    rows = tds[i].text\n",
    "    if (i//(len(ths)/2))%2 == 0:\n",
    "        total_value.append(rows)\n",
    "    else:\n",
    "        today_value.append(rows)\n",
    "\n",
    "Crawling = pd.DataFrame([total_value,today_value], columns=name_list, index=['Total', 'Today'])\n",
    "Crawling.loc['Total','Update Time'] = place_time[0].text\n",
    "\n",
    "#print(Crawling)\n",
    "Crawling.to_csv('Crawling.csv', encoding='utf-8-sig')"
   ]
  },
  {
   "cell_type": "code",
   "execution_count": 157,
   "id": "c469ddae",
   "metadata": {},
   "outputs": [
    {
     "name": "stdout",
     "output_type": "stream",
     "text": [
      "65,975 +67 (2022.10.21.00시 기준)\n"
     ]
    }
   ],
   "source": [
    "import pandas as pd\n",
    "\n",
    "df = pd.read_csv('Crawling.csv')\n",
    "print(df['종로구'][0], df['종로구'][1], df['Update Time'][0])"
   ]
  }
 ],
 "metadata": {
  "kernelspec": {
   "display_name": "Python 3 (ipykernel)",
   "language": "python",
   "name": "python3"
  },
  "language_info": {
   "codemirror_mode": {
    "name": "ipython",
    "version": 3
   },
   "file_extension": ".py",
   "mimetype": "text/x-python",
   "name": "python",
   "nbconvert_exporter": "python",
   "pygments_lexer": "ipython3",
   "version": "3.9.12"
  }
 },
 "nbformat": 4,
 "nbformat_minor": 5
}
