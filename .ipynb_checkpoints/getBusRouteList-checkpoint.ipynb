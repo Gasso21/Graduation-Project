{
 "cells": [
  {
   "cell_type": "code",
   "execution_count": 4,
   "id": "3ac75264",
   "metadata": {},
   "outputs": [
    {
     "name": "stdout",
     "output_type": "stream",
     "text": [
      "버스 번호를 입력하시오: \n",
      "506\n"
     ]
    },
    {
     "ename": "UnboundLocalError",
     "evalue": "local variable 'busRouteId' referenced before assignment",
     "output_type": "error",
     "traceback": [
      "\u001b[0;31m---------------------------------------------------------------------------\u001b[0m",
      "\u001b[0;31mUnboundLocalError\u001b[0m                         Traceback (most recent call last)",
      "Input \u001b[0;32mIn [4]\u001b[0m, in \u001b[0;36m<cell line: 27>\u001b[0;34m()\u001b[0m\n\u001b[1;32m     27\u001b[0m \u001b[38;5;28;01mif\u001b[39;00m \u001b[38;5;18m__name__\u001b[39m \u001b[38;5;241m==\u001b[39m \u001b[38;5;124m\"\u001b[39m\u001b[38;5;124m__main__\u001b[39m\u001b[38;5;124m\"\u001b[39m:\n\u001b[1;32m     28\u001b[0m     n \u001b[38;5;241m=\u001b[39m \u001b[38;5;28minput\u001b[39m(\u001b[38;5;124m\"\u001b[39m\u001b[38;5;124m버스 번호를 입력하시오: \u001b[39m\u001b[38;5;130;01m\\n\u001b[39;00m\u001b[38;5;124m\"\u001b[39m)\n\u001b[0;32m---> 29\u001b[0m     i \u001b[38;5;241m=\u001b[39m \u001b[43mgetBusRouteList\u001b[49m\u001b[43m(\u001b[49m\u001b[43mn\u001b[49m\u001b[43m)\u001b[49m\n\u001b[1;32m     30\u001b[0m     \u001b[38;5;28mprint\u001b[39m(\u001b[38;5;124m\"\u001b[39m\u001b[38;5;124mBus Route ID : \u001b[39m\u001b[38;5;124m\"\u001b[39m,i)\n",
      "Input \u001b[0;32mIn [4]\u001b[0m, in \u001b[0;36mgetBusRouteList\u001b[0;34m(strSrch)\u001b[0m\n\u001b[1;32m      9\u001b[0m \u001b[38;5;66;03m#API_Key\u001b[39;00m\n\u001b[1;32m     10\u001b[0m serv_key\u001b[38;5;241m=\u001b[39m unquote(\u001b[38;5;124m'\u001b[39m\u001b[38;5;124mzkHbK1ll17jg5JC3zT\u001b[39m\u001b[38;5;124m%\u001b[39m\u001b[38;5;124m2BfNgvWlXZLPsxXdnF0\u001b[39m\u001b[38;5;124m%\u001b[39m\u001b[38;5;124m2Broo8q41CczIcbONJ\u001b[39m\u001b[38;5;132;01m%2F\u001b[39;00m\u001b[38;5;124mQeh7iFZ\u001b[39m\u001b[38;5;132;01m%2F\u001b[39;00m\u001b[38;5;124mjxLtM\u001b[39m\u001b[38;5;132;01m%2F\u001b[39;00m\u001b[38;5;124mxj87o\u001b[39m\u001b[38;5;132;01m%2F\u001b[39;00m\u001b[38;5;124m6XZTK6oFoVrA\u001b[39m\u001b[38;5;124m%\u001b[39m\u001b[38;5;124m3D\u001b[39m\u001b[38;5;124m%\u001b[39m\u001b[38;5;124m3D\u001b[39m\u001b[38;5;124m'\u001b[39m)\n\u001b[0;32m---> 12\u001b[0m queryParams \u001b[38;5;241m=\u001b[39m \u001b[38;5;124m'\u001b[39m\u001b[38;5;124m?\u001b[39m\u001b[38;5;124m'\u001b[39m \u001b[38;5;241m+\u001b[39m urlencode({ quote_plus(\u001b[38;5;124m'\u001b[39m\u001b[38;5;124mServiceKey\u001b[39m\u001b[38;5;124m'\u001b[39m) : serv_key, quote_plus(\u001b[38;5;124m'\u001b[39m\u001b[38;5;124mquote_plus\u001b[39m\u001b[38;5;124m'\u001b[39m) : \u001b[43mbusRouteId\u001b[49m})\n\u001b[1;32m     13\u001b[0m request \u001b[38;5;241m=\u001b[39m Request( url \u001b[38;5;241m+\u001b[39m queryParams)\n\u001b[1;32m     14\u001b[0m request\u001b[38;5;241m.\u001b[39mget_method \u001b[38;5;241m=\u001b[39m \u001b[38;5;28;01mlambda\u001b[39;00m: \u001b[38;5;124m'\u001b[39m\u001b[38;5;124mGET\u001b[39m\u001b[38;5;124m'\u001b[39m\n",
      "\u001b[0;31mUnboundLocalError\u001b[0m: local variable 'busRouteId' referenced before assignment"
     ]
    }
   ],
   "source": [
    "from urllib.parse import urlencode, quote_plus, unquote\n",
    "from urllib.request import Request, urlopen\n",
    "import xml.etree.ElementTree as ET\n",
    "\n",
    "def getBusRouteList(strSrch):\n",
    "    #getBusRouteList\n",
    "    url = 'http://ws.bus.go.kr/api/rest/busRouteInfo/getBusRouteList'\n",
    "    \n",
    "    #API_Key\n",
    "    serv_key= unquote('zkHbK1ll17jg5JC3zT%2BfNgvWlXZLPsxXdnF0%2Broo8q41CczIcbONJ%2FQeh7iFZ%2FjxLtM%2Fxj87o%2F6XZTK6oFoVrA%3D%3D')\n",
    "\n",
    "    queryParams = '?' + urlencode({ quote_plus('ServiceKey') : serv_key, quote_plus('quote_plus') : busRouteId})\n",
    "    request = Request( url + queryParams)\n",
    "    request.get_method = lambda: 'GET'\n",
    "\n",
    "     #parsing\n",
    "    doc = ET.parse(urlopen(request))\n",
    "    \n",
    "    root = doc.getroot()\n",
    "    msgBody    = root.find(\"msgBody\")\n",
    "    itemList   = msgBody.find(\"itemList\")\n",
    "    busRouteId = itemList.find(\"busRouteId\").text\n",
    "\n",
    "    return busRouteId\n",
    "\n",
    "\n",
    "if __name__ == \"__main__\":\n",
    "    n = input(\"버스 번호를 입력하시오: \\n\")\n",
    "    i = getBusRouteList(n)\n",
    "    print(\"Bus Route ID : \",i)"
   ]
  }
 ],
 "metadata": {
  "kernelspec": {
   "display_name": "Python 3 (ipykernel)",
   "language": "python",
   "name": "python3"
  },
  "language_info": {
   "codemirror_mode": {
    "name": "ipython",
    "version": 3
   },
   "file_extension": ".py",
   "mimetype": "text/x-python",
   "name": "python",
   "nbconvert_exporter": "python",
   "pygments_lexer": "ipython3",
   "version": "3.9.12"
  }
 },
 "nbformat": 4,
 "nbformat_minor": 5
}
