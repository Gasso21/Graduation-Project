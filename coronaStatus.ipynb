{
 "cells": [
  {
   "cell_type": "markdown",
   "id": "147222c2",
   "metadata": {},
   "source": [
    "# CoronaStatus Crawling"
   ]
  },
  {
   "cell_type": "code",
   "execution_count": 22,
   "id": "69068db0",
   "metadata": {},
   "outputs": [
    {
     "name": "stdout",
     "output_type": "stream",
     "text": [
      "[['251,810', '225,076', '133,630', '279,246', '244,431', '172,239', '198,727', '112,689', '250,467', '148,114', '166,057', '194,643', '182,259'], ['+265', '+199', '+129', '+340', '+251', '+165', '+225', '+107', '+238', '+142', '+176', '+214', '+192'], ['149,688', '195,385', '141,737', '209,839', '321,867', '214,009', '200,021', '102,482', '221,968', '65,975', '59,649', '181,122', '304,207'], ['+178', '+199', '+139', '+177', '+306', '+219', '+171', '+103', '+247', '+67', '+60', '+181', '+371']]\n"
     ]
    }
   ],
   "source": [
    "import pandas as pd\n",
    "import requests, bs4\n",
    "\n",
    "response = requests.get('https://www.seoul.go.kr/coronaV/coronaStatus.do')\n",
    "html_obj = bs4.BeautifulSoup(response.content, 'html.parser')\n",
    "\n",
    "ths = html_obj.select('table.tstyle-status.pc.pc-table > tbody > tr > th')\n",
    "tds = html_obj.select('table.tstyle-status.pc.pc-table > tbody > tr > td')\n",
    "place_time = html_obj.select(' div#wrap.sub > div#container > div.layout-inner.layout-sub > div.inner.inner7 > div.status > div.status-seoul > h4 ')\n",
    "row_list = []\n",
    "name_list = []\n",
    "value_list = []\n",
    "\n",
    "for i in range(0, len(ths)):\n",
    "    #자치구 이름\n",
    "    columns = ths[i].text\n",
    "    #print(columns)\n",
    "    name_list.append(columns)\n",
    "\n",
    "for i in range(0, len(tds)):\n",
    "    rows = tds[i].text\n",
    "    value_list.append(rows)\n",
    "    if (i+1)%(len(ths)/2) == 0:\n",
    "        row_list.append(value_list)\n",
    "        value_list = []\n",
    "\n",
    "print(row_list)"
   ]
  },
  {
   "cell_type": "markdown",
   "id": "6e05e3d8",
   "metadata": {},
   "source": [
    "## Code"
   ]
  },
  {
   "cell_type": "code",
   "execution_count": 2,
   "id": "5b32dde1",
   "metadata": {},
   "outputs": [
    {
     "name": "stdout",
     "output_type": "stream",
     "text": [
      "[<th scope=\"col\">강남구</th>, <th scope=\"col\">강동구</th>, <th scope=\"col\">강북구</th>, <th scope=\"col\">강서구</th>, <th scope=\"col\">관악구</th>, <th scope=\"col\">광진구</th>, <th scope=\"col\">구로구</th>, <th scope=\"col\">금천구</th>, <th scope=\"col\">노원구</th>, <th scope=\"col\">도봉구</th>, <th scope=\"col\">동대문구</th>, <th scope=\"col\">동작구</th>, <th scope=\"col\">마포구 </th>, <th scope=\"col\">서대문구</th>, <th scope=\"col\">서초구</th>, <th scope=\"col\">성동구</th>, <th scope=\"col\">성북구</th>, <th scope=\"col\">송파구</th>, <th scope=\"col\">양천구</th>, <th scope=\"col\">영등포구</th>, <th scope=\"col\">용산구</th>, <th scope=\"col\">은평구</th>, <th scope=\"col\">종로구</th>, <th scope=\"col\">중구</th>, <th scope=\"col\">중랑구</th>, <th scope=\"col\">기타</th>] [<td>251,810</td>, <td>225,076</td>, <td>133,630</td>, <td>279,246</td>, <td>244,431</td>, <td>172,239</td>, <td>198,727</td>, <td>112,689</td>, <td>250,467</td>, <td>148,114</td>, <td>166,057</td>, <td>194,643</td>, <td>182,259</td>, <td class=\"today\">+265</td>, <td class=\"today\">+199</td>, <td class=\"today\">+129</td>, <td class=\"today\">+340</td>, <td class=\"today\">+251</td>, <td class=\"today\">+165</td>, <td class=\"today\">+225</td>, <td class=\"today\">+107</td>, <td class=\"today\">+238</td>, <td class=\"today\">+142</td>, <td class=\"today\">+176</td>, <td class=\"today\">+214</td>, <td class=\"today\">+192</td>, <td>149,688</td>, <td>195,385</td>, <td>141,737</td>, <td>209,839</td>, <td>321,867</td>, <td>214,009</td>, <td>200,021</td>, <td>102,482</td>, <td>221,968</td>, <td>65,975</td>, <td>59,649</td>, <td>181,122</td>, <td>304,207</td>, <td class=\"today\">+178</td>, <td class=\"today\">+199</td>, <td class=\"today\">+139</td>, <td class=\"today\">+177</td>, <td class=\"today\">+306</td>, <td class=\"today\">+219</td>, <td class=\"today\">+171</td>, <td class=\"today\">+103</td>, <td class=\"today\">+247</td>, <td class=\"today\">+67</td>, <td class=\"today\">+60</td>, <td class=\"today\">+181</td>, <td class=\"today\">+371</td>] []\n"
     ]
    },
    {
     "ename": "NameError",
     "evalue": "name 'placeList' is not defined",
     "output_type": "error",
     "traceback": [
      "\u001b[0;31m---------------------------------------------------------------------------\u001b[0m",
      "\u001b[0;31mNameError\u001b[0m                                 Traceback (most recent call last)",
      "Input \u001b[0;32mIn [2]\u001b[0m, in \u001b[0;36m<cell line: 18>\u001b[0;34m()\u001b[0m\n\u001b[1;32m     15\u001b[0m     status_dic[th\u001b[38;5;241m.\u001b[39mtext] \u001b[38;5;241m=\u001b[39m td\u001b[38;5;241m.\u001b[39mtext\n\u001b[1;32m     17\u001b[0m number \u001b[38;5;241m=\u001b[39m \u001b[38;5;241m0\u001b[39m\n\u001b[0;32m---> 18\u001b[0m \u001b[38;5;28;01mfor\u001b[39;00m value \u001b[38;5;129;01min\u001b[39;00m \u001b[43mplaceList\u001b[49m:\n\u001b[1;32m     19\u001b[0m     number \u001b[38;5;241m+\u001b[39m\u001b[38;5;241m=\u001b[39m \u001b[38;5;28mint\u001b[39m(status_dic[value])\n\u001b[1;32m     22\u001b[0m \u001b[38;5;28mprint\u001b[39m(\u001b[38;5;124m\"\u001b[39m\u001b[38;5;130;01m\\n\u001b[39;00m\u001b[38;5;124m\"\u001b[39m \u001b[38;5;241m+\u001b[39m place_time[\u001b[38;5;241m0\u001b[39m]\u001b[38;5;241m.\u001b[39mtext \u001b[38;5;241m+\u001b[39m\u001b[38;5;124m\"\u001b[39m\u001b[38;5;130;01m\\n\u001b[39;00m\u001b[38;5;124m\"\u001b[39m)\n",
      "\u001b[0;31mNameError\u001b[0m: name 'placeList' is not defined"
     ]
    }
   ],
   "source": [
    "import pandas as pd\n",
    "import requests, bs4\n",
    "\n",
    "response = requests.get('https://www.seoul.go.kr/coronaV/coronaStatus.do')\n",
    "html_obj = bs4.BeautifulSoup(response.content, 'html.parser')\n",
    "\n",
    "ths = html_obj.select('table.tstyle-status.pc.pc-table > tbody > tr > th')\n",
    "tds = html_obj.select('table.tstyle-status.pc.pc-table > tbody > tr > td')\n",
    "place_time = html_obj.select(' div#wrap.sub > div#container > div.layout-inner.layout-sub > div.inner.inner7 > div.status > div.status-seoul > h4 ')\n",
    "\n",
    "\n",
    "\n",
    "\n",
    "status_dic = {}\n",
    "\n",
    "for th, td in zip(ths, tds):\n",
    "    status_dic[th.text] = td.text\n",
    "\n",
    "number = 0\n",
    "for value in placeList:\n",
    "    number += int(status_dic[value])\n",
    "\n",
    "    \n",
    "print(\"\\n\" + place_time[0].text +\"\\n\")\n",
    "print(str(bus_number) + \"번 버스가 지나는 자치구는\" )\n",
    "for idx, gu in enumerate(placeList):\n",
    "    if idx != len(placeList)-1:\n",
    "        print(gu, end=',')\n",
    "    else:\n",
    "        print(gu, end='')\n",
    "print(\"입니다.\\n\")\n",
    "      \n",
    "print(\"해당 자치구(들)의 코로나 확진자 수는 \" + str(number) + \"명 입니다.\")"
   ]
  },
  {
   "cell_type": "code",
   "execution_count": null,
   "id": "1ca3f44e",
   "metadata": {},
   "outputs": [],
   "source": []
  }
 ],
 "metadata": {
  "kernelspec": {
   "display_name": "Python 3 (ipykernel)",
   "language": "python",
   "name": "python3"
  },
  "language_info": {
   "codemirror_mode": {
    "name": "ipython",
    "version": 3
   },
   "file_extension": ".py",
   "mimetype": "text/x-python",
   "name": "python",
   "nbconvert_exporter": "python",
   "pygments_lexer": "ipython3",
   "version": "3.9.12"
  }
 },
 "nbformat": 4,
 "nbformat_minor": 5
}
