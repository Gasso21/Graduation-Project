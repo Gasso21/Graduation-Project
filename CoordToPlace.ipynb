{
 "cells": [
  {
   "cell_type": "markdown",
   "id": "ee84cddb",
   "metadata": {},
   "source": [
    "## Coordinate -> Place(-gu)"
   ]
  },
  {
   "cell_type": "markdown",
   "id": "82989f7d",
   "metadata": {},
   "source": [
    "## urllib.parse\n",
    "- URL을 구성 요소로 구문 분석\n",
    "이 모듈은   \n",
    "#1. URL 문자열을 구성요소(주소 지정 체계, 네트워크 위치, 경로 등)으로 분리  \n",
    "#2. URL 문자열로 결합  \n",
    "#3. \"상대 URL\"을 주어진 \"기본 URL\"에 따라 절대 URL로 변환하는 표준 인터페이스를 정의\n",
    "\n",
    "**urlllib.parse 모듈은 다음 함수들을 정의**\n",
    "- URL 구문 분석  \n",
    "- <u>URL 인용(quoting)</u>  \n",
    "\n",
    "**URL Quoting**  \n",
    "`urllib.parse.quote(string, safe='/', encoding=None, errors=None) `\n",
    "- 기본적으로 URL의 경로 섹션을 인용하기 위한 것  \n",
    "- 문자열을 퍼센티지 이스케이프를 사용하는 문자열로 바꿔줌\n",
    "\n",
    "`urllib.parse.quote_plus(string, safe=' ', encoding=None, errors=None)`\n",
    "- 기본적으로 urllib.parse.quote와 동일함  \n",
    "- 띄어쓰기를 출력해주는 방식이 \"%20\" -> \"+\" 라는 차이가 있음"
   ]
  },
  {
   "cell_type": "code",
   "execution_count": 6,
   "id": "b922c688",
   "metadata": {},
   "outputs": [
    {
     "name": "stdout",
     "output_type": "stream",
     "text": [
      "이름은 Jaehwan\n",
      "%EC%9D%B4%EB%A6%84%EC%9D%80%20Jaehwan\n",
      "%EC%9D%B4%EB%A6%84%EC%9D%80+Jaehwan\n"
     ]
    }
   ],
   "source": [
    "from urllib.parse import quote, quote_plus\n",
    "print('이름은 Jaehwan')\n",
    "print(quote('이름은 Jaehwan'))\n",
    "print(quote_plus('이름은 Jaehwan'))"
   ]
  },
  {
   "cell_type": "code",
   "execution_count": 2,
   "id": "7dc6bcec",
   "metadata": {},
   "outputs": [],
   "source": [
    "from urllib.parse import urlencode, quote_plus\n",
    "from json import loads\n",
    "import requests\n",
    "import json\n",
    "\n",
    "def coordi_gu(lon, lat):\n",
    "    T_url = 'https://apis.openapi.sk.com/tmap/geo/reversegeocoding'\n",
    "    appKey= 'l7xx5a61621932f54b059f93816c0797a2b3'\n",
    "\n",
    "\n",
    "    queryParams = '?' + urlencode({ quote_plus('version'): '1', quote_plus('lat'): lat, quote_plus('lon'): lon, quote_plus('coordType'): 'WGS84GEO', quote_plus('addressType'): 'A00', quote_plus('appKey'): appKey })\n",
    "\n",
    "    resp = requests.get(T_url + queryParams)\n",
    "    response_body = resp.json()\n",
    "\n",
    "    gu = response_body[\"addressInfo\"][\"gu_gun\"] #gu: \"00구\"\n",
    "    return gu"
   ]
  },
  {
   "cell_type": "code",
   "execution_count": 3,
   "id": "cc609a38",
   "metadata": {},
   "outputs": [
    {
     "ename": "KeyError",
     "evalue": "'addressInfo'",
     "output_type": "error",
     "traceback": [
      "\u001b[0;31m---------------------------------------------------------------------------\u001b[0m",
      "\u001b[0;31mKeyError\u001b[0m                                  Traceback (most recent call last)",
      "Input \u001b[0;32mIn [3]\u001b[0m, in \u001b[0;36m<cell line: 1>\u001b[0;34m()\u001b[0m\n\u001b[0;32m----> 1\u001b[0m \u001b[43mcoordi_gu\u001b[49m\u001b[43m(\u001b[49m\u001b[38;5;241;43m37.5050881\u001b[39;49m\u001b[43m,\u001b[49m\u001b[43m \u001b[49m\u001b[38;5;241;43m126.9571012\u001b[39;49m\u001b[43m)\u001b[49m\n",
      "Input \u001b[0;32mIn [2]\u001b[0m, in \u001b[0;36mcoordi_gu\u001b[0;34m(lon, lat)\u001b[0m\n\u001b[1;32m     13\u001b[0m resp \u001b[38;5;241m=\u001b[39m requests\u001b[38;5;241m.\u001b[39mget(T_url \u001b[38;5;241m+\u001b[39m queryParams)\n\u001b[1;32m     14\u001b[0m response_body \u001b[38;5;241m=\u001b[39m resp\u001b[38;5;241m.\u001b[39mjson()\n\u001b[0;32m---> 16\u001b[0m gu \u001b[38;5;241m=\u001b[39m \u001b[43mresponse_body\u001b[49m\u001b[43m[\u001b[49m\u001b[38;5;124;43m\"\u001b[39;49m\u001b[38;5;124;43maddressInfo\u001b[39;49m\u001b[38;5;124;43m\"\u001b[39;49m\u001b[43m]\u001b[49m[\u001b[38;5;124m\"\u001b[39m\u001b[38;5;124mgu_gun\u001b[39m\u001b[38;5;124m\"\u001b[39m] \u001b[38;5;66;03m#gu: \"00구\"\u001b[39;00m\n\u001b[1;32m     17\u001b[0m \u001b[38;5;28;01mreturn\u001b[39;00m gu\n",
      "\u001b[0;31mKeyError\u001b[0m: 'addressInfo'"
     ]
    }
   ],
   "source": [
    "coordi_gu(37.5050881, 126.9571012)"
   ]
  },
  {
   "cell_type": "code",
   "execution_count": null,
   "id": "419f8225",
   "metadata": {},
   "outputs": [],
   "source": []
  }
 ],
 "metadata": {
  "kernelspec": {
   "display_name": "Python 3 (ipykernel)",
   "language": "python",
   "name": "python3"
  },
  "language_info": {
   "codemirror_mode": {
    "name": "ipython",
    "version": 3
   },
   "file_extension": ".py",
   "mimetype": "text/x-python",
   "name": "python",
   "nbconvert_exporter": "python",
   "pygments_lexer": "ipython3",
   "version": "3.9.12"
  }
 },
 "nbformat": 4,
 "nbformat_minor": 5
}
