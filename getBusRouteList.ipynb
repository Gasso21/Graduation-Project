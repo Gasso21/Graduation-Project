{
 "cells": [
  {
   "cell_type": "markdown",
   "id": "7d4cdf16",
   "metadata": {},
   "source": [
    "# BusNumber -> BusID"
   ]
  },
  {
   "cell_type": "markdown",
   "id": "1fa1774b",
   "metadata": {},
   "source": [
    "## Code"
   ]
  },
  {
   "cell_type": "code",
   "execution_count": 2,
   "id": "a329288f",
   "metadata": {},
   "outputs": [
    {
     "name": "stdout",
     "output_type": "stream",
     "text": [
      "버스 번호를 입력하시오: \n",
      "501\n",
      "Bus Route ID :  100100077\n"
     ]
    }
   ],
   "source": [
    "from urllib.parse import urlencode, unquote\n",
    "from urllib.request import Request, urlopen\n",
    "import xml.etree.ElementTree as ET\n",
    "\n",
    "def getBusRouteList(strSrch):\n",
    "    # API URL & Key\n",
    "    url = 'http://ws.bus.go.kr/api/rest/busRouteInfo/getBusRouteList'\n",
    "    ServiceKey = unquote('gjPavFovnjVJ7CFP7V%2FeNq3fwMNiW4GVn%2FNDcWSTJpqb1uII9BrKZJ8Vq2vZmYbm3ahPDMhFY7pF5e7jcfwy7w%3D%3D')\n",
    "\n",
    "    # Parameters\n",
    "    params = {}\n",
    "    params['ServiceKey'] = ServiceKey\n",
    "    params['strSrch'] = strSrch\n",
    "    \n",
    "    # Request\n",
    "    queryParams = '?' + urlencode(params)\n",
    "    request = Request(url + queryParams)\n",
    "    #request.get_method = lambda: 'GET'\n",
    "\n",
    "    # Parsing\n",
    "    doc = ET.parse(urlopen(request))\n",
    "\n",
    "    # Select text and make list\n",
    "    root = doc.getroot()\n",
    "    msgBody    = root.find(\"msgBody\")\n",
    "    itemList   = msgBody.find(\"itemList\")\n",
    "    busRouteId = itemList.find(\"busRouteId\").text\n",
    "    return busRouteId\n",
    "\n",
    "\n",
    "if __name__ == \"__main__\":\n",
    "    bus_number = input(\"버스 번호를 입력하시오: \\n\")\n",
    "    bus_Id = getBusRouteList(bus_number)\n",
    "    print(\"Bus Route ID : \",bus_Id)"
   ]
  },
  {
   "cell_type": "markdown",
   "id": "2cf531cd",
   "metadata": {},
   "source": [
    "## if __name__ == \"__main__\"\n",
    "- 다양한 함수들을 담고있는 특정 파일이 import되어 함수도 제공해주지만 파일 그 자체가 실행도 되어 사용해야할 때 사용\n",
    "- 위 파일을 그대로 실행하면 `if __name__==\"__main__\"`가 실행\n",
    "- 위 파일을 import 하면 함수만 가져올 수 있음"
   ]
  }
 ],
 "metadata": {
  "kernelspec": {
   "display_name": "Python 3 (ipykernel)",
   "language": "python",
   "name": "python3"
  },
  "language_info": {
   "codemirror_mode": {
    "name": "ipython",
    "version": 3
   },
   "file_extension": ".py",
   "mimetype": "text/x-python",
   "name": "python",
   "nbconvert_exporter": "python",
   "pygments_lexer": "ipython3",
   "version": "3.9.12"
  }
 },
 "nbformat": 4,
 "nbformat_minor": 5
}
