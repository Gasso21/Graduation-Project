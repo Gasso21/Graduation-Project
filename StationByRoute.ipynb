{
 "cells": [
  {
   "cell_type": "markdown",
   "id": "c8d78ce0",
   "metadata": {},
   "source": [
    "# BusID -> Coordinate"
   ]
  },
  {
   "cell_type": "markdown",
   "id": "e00ce595",
   "metadata": {},
   "source": [
    "## 1. urllib.parse\n",
    "- URL을 구성 요소로 구문 분석\n",
    "- URL 문자열을 구성요소(주소 지정 체계, 네트워크 위치, 경로 등)으로 분리  \n",
    "- URL 문자열로 결합  \n",
    "- \"상대 URL\"을 주어진 \"기본 URL\"에 따라 절대 URL로 변환하는 표준 인터페이스를 정의\n",
    "\n",
    "**urlllib.parse 모듈은 다음 함수들을 정의**\n",
    "- URL 구문 분석  \n",
    "- <u>URL 인용(quoting)</u>  \n",
    "\n",
    "**URL Quoting**  \n",
    "`urllib.parse.quote(string, safe='/', encoding=None, errors=None) `\n",
    "- 기본적으로 URL의 경로 섹션을 인용하기 위한 것  \n",
    "- 문자열을 퍼센티지 이스케이프를 사용하는 문자열로 바꿔줌  \n",
    "- safe Parm.은 encoding하지 않을 인자를 입력. **default값은 '/'**\n",
    "- encoding Parm.은 encoding 방식을 입력. **default값은 'utf-8'**\n",
    "- errors Parm.은 error를 발생시키는 방법을 입력. **default값은 quote()에서 'strict', unquote()에서 'replace'**\n",
    "\n",
    "`urllib.parse.quote_plus(string, safe=' ', encoding=None, errors=None)`\n",
    "- 기본적으로 urllib.parse.quote와 동일함  \n",
    "- 띄어쓰기를 출력해주는 방식이 \"%20\" -> \"+\" 라는 차이가 있음\n",
    "\n",
    "`urllib.parse.urlencode()`\n",
    "- Get으로 요청 시에 사용하는 Parameters의 Request를 자동으로 생성"
   ]
  },
  {
   "cell_type": "code",
   "execution_count": 35,
   "id": "349113f3",
   "metadata": {},
   "outputs": [
    {
     "name": "stdout",
     "output_type": "stream",
     "text": [
      "이름은 Jaehwan\n",
      "quote:      %EC%9D%B4%EB%A6%84%EC%9D%80%20Jaehwan\n",
      "quote_plus: %EC%9D%B4%EB%A6%84%EC%9D%80+Jaehwan\n",
      "unquote:    이름은 Jaehwan\n",
      "urlencode:  key01=value01&key02=value02\n"
     ]
    }
   ],
   "source": [
    "from urllib.parse import quote, quote_plus, unquote, urlencode\n",
    "\n",
    "test_str = '이름은 Jaehwan'\n",
    "print('{0}' .format(test_str))\n",
    "print('quote:      {0}' .format(quote(test_str)))\n",
    "print('quote_plus: {0}' .format(quote_plus(test_str)))\n",
    "\n",
    "print('unquote:    {0}' .format(unquote(quote(test_str))))\n",
    "\n",
    "params = {}\n",
    "params['key01'] = 'value01'\n",
    "params['key02'] = 'value02'\n",
    "params = urlencode(params)\n",
    "print('urlencode:  %s' %(params))"
   ]
  },
  {
   "cell_type": "markdown",
   "id": "d29aa8f5",
   "metadata": {},
   "source": [
    "## 2. urllib.request\n",
    "- URL요청 클래스/함수들 정의\n",
    "- 데이터를 전송할 때 인코딩을 해서 바이너리 형태로 전송\n",
    "- 존재하지 않는 페이지를 요청하면 에러를 출력\n",
    "- 파이썬에 설치된 기본 모듈로써, 외부 통신이 안되는 경우에도 사용이 가능\n",
    "\n",
    "`urlopen(url, data=None, cafile=None, capath=None, cadefault=False, context=None)`\n",
    "- url: 문자열로 된 url이나 Request객체(urllib.request.Request 클래스로 인스턴트를 받음)\n",
    "- data: Post방식으로 요청 시의 데이터\n",
    "- timeout: 연결 시도에 대한 시간 초과 '초(seconds)'\n",
    "- cafile, capath, cadefault: CA 인증서에 대한 인자\n",
    "- context: ssl.SSLContext 객체\n",
    "\n",
    "**반환 객체는 아래 함수를 지원**   \n",
    "1. **geturl()**: 받아온 리소스의 url\n",
    "2. **info()**: 패킷의 메타 데이터(헤더 등)\n",
    "3. **getcode()**: 응답 패킷의 HTTP 상태 코드\n",
    "4. **read()**: 받아온 데이터를 바이트형으로 출력\n",
    "5. **read().decode()**: HTML 형식으로 출력\n",
    "6. **readline()**: 받아온 데이터를 바이트형으로 한 줄씩 출력\n",
    "7. **close()**: 연결 종료\n",
    "\n",
    "> **urlopen의 일반적인 사용 예**   \n",
    "`x = urlopen(요청 URL)   \n",
    "x = urlopen(Request(요청 URL)`\n",
    "\n",
    "> **요청 시 전송할 데이터를 지정하여 urlopen을 사용하는 예 (POST방식에 사용)**   \n",
    "`x = urlopen(URL, data).  \n",
    "x = urlopen(Requests(URL), data`\n",
    "\n",
    "\n",
    "> **웹 페이지 내용 화면에 출력**   \n",
    "`url = ''    \n",
    "with urlopen(url) as x:    \n",
    "    print(x.read())`\n",
    "    \n",
    "> **웹 서버로부터의 응답 정보 출력**   \n",
    "`url = ''\n",
    "with urlopen(url) as x:\n",
    "    print(x.geturl()) #실제로 응답한 URL\n",
    "    print(x.info()) #헤더 등과 같은 페이지의 메타 정보\n",
    "    print(x.getcode()) #HTTP 응답코드`\n",
    "\n",
    "`Request(url, data=None, headers={}, origin_req_host=None, unverifiable=False, method=None)`\n",
    "- url 요청을 추상화하기위한 클래스\n",
    "- urllib.request.urlopen()함수의 인자로 넘겨주기 위해 url 요청을 인스턴트화\n",
    "- **url**: 문자열로된 url\n",
    "- **data**: 요청에 대한 추가 데이터의 객체를 지정하거나 None을 지정\n",
    "- **headers**: 요청에 필요한 헤더를 넣어줌(Type: Dictionary)\n",
    "- **origin_req_host**: 원본 트랙잭션의 요청 호스트를 지정. 기본 값은 URL을 요청한 호스트\n",
    "- **unverifiable**: 요청에 대해 검증할 수 없는지의 여부(True/False)를 지정. 기본값은 False\n",
    "- **method**: HTTP 요청 메소드가 들어감. 기본값은 GET이고 HEAD, POST 등을 지정\n",
    "\n",
    "**반환 객체는 아래 함수와 변수를 지원**   \n",
    "1. **Request.full_url**: 전달된 원본 URL\n",
    "2. **Request.type**: URL Scheme을 담고있는 변수\n",
    "3. **Request.host**: 요청된 URL의 호스트 부분을 담고있는 변수\n",
    "4. **Request.origin_req_host**: 포트를 제외한 원래의 호스트 부분을 담고있는 변수\n",
    "5. **Request.method**: 요청에 사용되는 HTTP 메소드를 설정하는 변수\n",
    "6. **Request.get_method()**: 요청에 사용될 HTTP 메소드를 반환"
   ]
  },
  {
   "cell_type": "code",
   "execution_count": 38,
   "id": "ea4c9216",
   "metadata": {},
   "outputs": [],
   "source": [
    "from urllib.request import Request, urlopen\n",
    "\n",
    "x = Request('https://blog.naver.com/')\n",
    "with urlopen(x) as response:\n",
    "    res_text = response.read()"
   ]
  },
  {
   "cell_type": "markdown",
   "id": "55795a87",
   "metadata": {},
   "source": [
    "## 3. requests\n",
    "- 데이터를 전송할 때 딕셔너리 형태로 전송\n",
    "- 존재하지 않는 페이지를 요청해도 에러를 출력하지 않음\n",
    "- URL에 쿼리 문자열을 수동으로 추가하거나 POST 데이터를 형식 인코딩할 필요가 없어 urllib.request보다 사용하기 쉬움\n",
    "- GET/POST 여부에 관계없이 매개변수를 다시 인코딩할 필요가 없으며 dictionary을 인수로 사용하기만 하면 됌"
   ]
  },
  {
   "cell_type": "code",
   "execution_count": null,
   "id": "977d8f2f",
   "metadata": {},
   "outputs": [],
   "source": [
    "import requests\n",
    "\n",
    "x = requests.get('https://blog.naver.com/') # x 객체 생성 requests모듈의 get메서드로 URL을 받음\n",
    "print(response.status_code) # 상태코드 호출, URL을 잘 받았다면 200 출력"
   ]
  },
  {
   "cell_type": "code",
   "execution_count": 7,
   "id": "5191becc",
   "metadata": {},
   "outputs": [],
   "source": [
    "from urllib.parse import urlencode, quote_plus, unquote\n",
    "from urllib.request import Request, urlopen\n",
    "import xml.etree.ElementTree as ET\n",
    "\n",
    "def Bus_ID(busRouteId):\n",
    "    Bus_url = 'http://ws.bus.go.kr/api/rest/busRouteInfo/getStaionByRoute'\n",
    "    ServiceKey = unquote('zkHbK1ll17jg5JC3zT%2BfNgvWlXZLPsxXdnF0%2Broo8q41CczIcbONJ%2FQeh7iFZ%2FjxLtM%2Fxj87o%2F6XZTK6oFoVrA%3D%3D')\n",
    "\n",
    "    #queryParams = '?' + urlencode({ quote_plus('ServiceKey') : serv_key, quote_plus('busRouteId') : busRouteId})\n",
    "    params = {}\n",
    "    params['ServiceKey'] = ServiceKey\n",
    "    params['busRouteId'] = busRouteId\n",
    "    \n",
    "    queryParams = '?' + urlencode(params)\n",
    "    response = Request(Bus_url + queryParams)\n",
    "    with urlopen(response) as response:\n",
    "        res_xml = ET.parse(response)\n",
    "    #response.get_method = lambda: 'GET'\n",
    "    print(res_xml)\n",
    "    \n",
    "    root = res_xml.getroot()\n",
    "    print(root)\n",
    " \n",
    "    return "
   ]
  },
  {
   "cell_type": "code",
   "execution_count": 8,
   "id": "25fa539b",
   "metadata": {},
   "outputs": [
    {
     "name": "stdout",
     "output_type": "stream",
     "text": [
      "<xml.etree.ElementTree.ElementTree object at 0x11039d610>\n",
      "<Element 'ServiceResult' at 0x1123e5e00>\n"
     ]
    }
   ],
   "source": [
    "Bus_ID(100100081)"
   ]
  },
  {
   "cell_type": "code",
   "execution_count": null,
   "id": "8e382fbf",
   "metadata": {},
   "outputs": [],
   "source": []
  }
 ],
 "metadata": {
  "kernelspec": {
   "display_name": "Python 3 (ipykernel)",
   "language": "python",
   "name": "python3"
  },
  "language_info": {
   "codemirror_mode": {
    "name": "ipython",
    "version": 3
   },
   "file_extension": ".py",
   "mimetype": "text/x-python",
   "name": "python",
   "nbconvert_exporter": "python",
   "pygments_lexer": "ipython3",
   "version": "3.9.12"
  }
 },
 "nbformat": 4,
 "nbformat_minor": 5
}
