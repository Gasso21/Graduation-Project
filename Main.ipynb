{
 "cells": [
  {
   "cell_type": "markdown",
   "id": "9c258802",
   "metadata": {},
   "source": [
    "## Main Code"
   ]
  },
  {
   "cell_type": "code",
   "execution_count": 7,
   "id": "6817ee24",
   "metadata": {},
   "outputs": [
    {
     "name": "stdout",
     "output_type": "stream",
     "text": [
      "버스번호를 입력하시오: 506\n",
      "  Unnamed: 0      강남구      강동구      강북구      강서구      관악구      광진구      구로구  \\\n",
      "0      Total  252,101  225,341  133,784  279,643  244,709  172,394  198,969   \n",
      "1      Today     +291     +265     +154     +397     +278     +155     +242   \n",
      "\n",
      "       금천구      노원구  ...      송파구      양천구     영등포구      용산구      은평구     종로구  \\\n",
      "0  112,803  250,782  ...  322,311  214,284  200,226  102,593  222,276  66,046   \n",
      "1     +114     +315  ...     +445     +275     +205     +111     +308     +71   \n",
      "\n",
      "       중구      중랑구       기타          Update Time  \n",
      "0  59,708  181,337  304,677  (2022.10.22.00시 기준)  \n",
      "1     +62     +215     +471                  NaN  \n",
      "\n",
      "[2 rows x 28 columns]\n",
      "506번 버스가 지나는 자치구는 관악구,용산구,동작구,중구입니다.\n",
      "현재 코로나 업데이트는 2022.10.22.00시 기준이며,\n",
      "해당 자치구의 \t누적 확진자수는  601,891명,\n",
      " \t\t신규 확진자수는      690명입니다.\n"
     ]
    }
   ],
   "source": [
    "from Project.module import BusNo2BusId, BusId2Coordi, Coordi2Place\n",
    "import pandas as pd\n",
    "\n",
    "\n",
    "# Input\n",
    "bus_number = input(\"버스번호를 입력하시오: \")\n",
    "\n",
    "# Bus Number -> Bus ID\n",
    "busRouteId = BusNo2BusId.getBusRouteList(bus_number)\n",
    "\n",
    "# Bus ID -> Coordinates List\n",
    "gpsList = BusId2Coordi.getStationByRoute(busRouteId)\n",
    "\n",
    "# Coordinates List -> Places(-gu)\n",
    "placeList = []\n",
    "for lon, lat in gpsList:\n",
    "    placeList.append(Coordi2Place.reversegeocoding(lat, lon))\n",
    "\n",
    "# Deduplicate Places(-gu)\n",
    "placeList = list(set(placeList))\n",
    "\n",
    "# List -> Str\n",
    "#place_str = ','.join(s for s in placeList)\n",
    "place_str = ','.join(map(str, placeList))\n",
    "\n",
    "df = pd.read_csv('./Project/module/Crawling.csv')\n",
    "place_time = df['Update Time'][0].strip('()')\n",
    "\n",
    "total_people, today_people = 0,0\n",
    "for i in placeList:\n",
    "    total_people += int(df[i][0].replace(',','')) # integer값으로 변환\n",
    "    today_people += int(df[i][1].replace(',',''))\n",
    "\n",
    "total_people = format(total_people, ',d')\n",
    "today_people = format(today_people, ',d')\n",
    "\n",
    "print(df)\n",
    "print('{0}번 버스가 지나는 자치구는 {1}입니다.' .format(bus_number,place_str))\n",
    "print('현재 코로나 업데이트는 {0}이며,' .format(place_time))\n",
    "print('해당 자치구의 \\t누적 확진자수는 {0}명,\\n \\t\\t신규 확진자수는 {1}명입니다.' .format(total_people.rjust(8), today_people.rjust(8))) #"
   ]
  }
 ],
 "metadata": {
  "kernelspec": {
   "display_name": "Python 3 (ipykernel)",
   "language": "python",
   "name": "python3"
  },
  "language_info": {
   "codemirror_mode": {
    "name": "ipython",
    "version": 3
   },
   "file_extension": ".py",
   "mimetype": "text/x-python",
   "name": "python",
   "nbconvert_exporter": "python",
   "pygments_lexer": "ipython3",
   "version": "3.9.12"
  }
 },
 "nbformat": 4,
 "nbformat_minor": 5
}
